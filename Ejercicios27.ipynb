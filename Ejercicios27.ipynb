{
 "cells": [
  {
   "cell_type": "markdown",
   "id": "5e7732df-520e-473b-99c3-2d3b72ce3ee0",
   "metadata": {},
   "source": [
    "# Ejercicios 27"
   ]
  },
  {
   "cell_type": "markdown",
   "id": "3786af8e-6989-48da-a5b0-dc6e07617471",
   "metadata": {},
   "source": [
    "### Realiza operaciones basicas con conjuntos union e interseccion"
   ]
  },
  {
   "cell_type": "code",
   "execution_count": 3,
   "id": "905c8e9e-14de-417e-a611-dd570742239e",
   "metadata": {},
   "outputs": [
    {
     "name": "stdout",
     "output_type": "stream",
     "text": [
      "union {1, 2, 3, 4, 5}\n",
      "inter {3}\n"
     ]
    }
   ],
   "source": [
    "conjunto1 = {1,2,3}\n",
    "conjunto2 = {3,4,5}\n",
    "\n",
    "union = conjunto1 | conjunto2\n",
    "interseccion = conjunto1 & conjunto2\n",
    "\n",
    "print(\"union\", union)\n",
    "print('inter', interseccion)"
   ]
  },
  {
   "cell_type": "code",
   "execution_count": null,
   "id": "fec8d704-cf5d-418a-b125-da2bf17aa5cc",
   "metadata": {},
   "outputs": [],
   "source": []
  }
 ],
 "metadata": {
  "kernelspec": {
   "display_name": "Python 3 (ipykernel)",
   "language": "python",
   "name": "python3"
  },
  "language_info": {
   "codemirror_mode": {
    "name": "ipython",
    "version": 3
   },
   "file_extension": ".py",
   "mimetype": "text/x-python",
   "name": "python",
   "nbconvert_exporter": "python",
   "pygments_lexer": "ipython3",
   "version": "3.12.4"
  }
 },
 "nbformat": 4,
 "nbformat_minor": 5
}
