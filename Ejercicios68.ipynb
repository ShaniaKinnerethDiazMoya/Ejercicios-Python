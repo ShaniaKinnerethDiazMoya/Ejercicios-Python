{
 "cells": [
  {
   "cell_type": "markdown",
   "id": "d784b4d1-20ae-4cc1-b1ab-cd0a91e1fc10",
   "metadata": {},
   "source": [
    "# Ejercicios 68"
   ]
  },
  {
   "cell_type": "markdown",
   "id": "081341d0-0644-45bd-a893-9b05d02359a4",
   "metadata": {},
   "source": [
    "### Escribe una funcion que pida por teclado la distancia y la velocidad para poder calcular el tiempod e viaje"
   ]
  },
  {
   "cell_type": "code",
   "execution_count": 3,
   "id": "c9482274-303c-43f7-b8ea-a45dedce082d",
   "metadata": {},
   "outputs": [
    {
     "name": "stdin",
     "output_type": "stream",
     "text": [
      "Escribe la distancia 100\n",
      "EScribe la velocidad 50\n"
     ]
    },
    {
     "data": {
      "text/plain": [
       "2.0"
      ]
     },
     "execution_count": 3,
     "metadata": {},
     "output_type": "execute_result"
    }
   ],
   "source": [
    "def tiempo_viaje():\n",
    "    distancia = int(input(\"Escribe la distancia\"))\n",
    "    velocidad = int(input(\"EScribe la velocidad\"))\n",
    "\n",
    "    return distancia / velocidad\n",
    "\n",
    "resultado = tiempo_viaje()\n",
    "resultado"
   ]
  },
  {
   "cell_type": "code",
   "execution_count": null,
   "id": "17a73657-1096-4b9b-ab9d-8adf09814947",
   "metadata": {},
   "outputs": [],
   "source": []
  }
 ],
 "metadata": {
  "kernelspec": {
   "display_name": "Python 3 (ipykernel)",
   "language": "python",
   "name": "python3"
  },
  "language_info": {
   "codemirror_mode": {
    "name": "ipython",
    "version": 3
   },
   "file_extension": ".py",
   "mimetype": "text/x-python",
   "name": "python",
   "nbconvert_exporter": "python",
   "pygments_lexer": "ipython3",
   "version": "3.12.4"
  }
 },
 "nbformat": 4,
 "nbformat_minor": 5
}
