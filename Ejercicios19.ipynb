{
 "cells": [
  {
   "cell_type": "markdown",
   "id": "c7a2e4cf-baca-4e6a-b245-b35672415f0a",
   "metadata": {},
   "source": [
    "# Ejercicios 19"
   ]
  },
  {
   "cell_type": "markdown",
   "id": "d16bca7a-9e62-492d-aed3-b7858a454bd0",
   "metadata": {},
   "source": [
    "### Cuenta las ocurrencias de un caracter especifico en una cadena"
   ]
  },
  {
   "cell_type": "code",
   "execution_count": 3,
   "id": "041b587b-d2a3-45d8-a64f-9f3a3d3a30cc",
   "metadata": {},
   "outputs": [
    {
     "data": {
      "text/plain": [
       "2"
      ]
     },
     "execution_count": 3,
     "metadata": {},
     "output_type": "execute_result"
    }
   ],
   "source": [
    "cadena = 'programacion'\n",
    "ocurrencias = cadena.count('a')\n",
    "ocurrencias"
   ]
  },
  {
   "cell_type": "code",
   "execution_count": null,
   "id": "7aa46966-a5fe-4627-a09e-eda147943bc4",
   "metadata": {},
   "outputs": [],
   "source": []
  }
 ],
 "metadata": {
  "kernelspec": {
   "display_name": "Python 3 (ipykernel)",
   "language": "python",
   "name": "python3"
  },
  "language_info": {
   "codemirror_mode": {
    "name": "ipython",
    "version": 3
   },
   "file_extension": ".py",
   "mimetype": "text/x-python",
   "name": "python",
   "nbconvert_exporter": "python",
   "pygments_lexer": "ipython3",
   "version": "3.12.4"
  }
 },
 "nbformat": 4,
 "nbformat_minor": 5
}
