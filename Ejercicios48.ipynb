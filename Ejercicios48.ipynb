{
 "cells": [
  {
   "cell_type": "markdown",
   "id": "8dc97af9-b2de-48b4-a51b-30b8f63e4d28",
   "metadata": {},
   "source": [
    "# Ejercicios 48"
   ]
  },
  {
   "cell_type": "markdown",
   "id": "cbf516ad-b68f-435f-b0cd-d6729342f766",
   "metadata": {},
   "source": [
    "### Simular un volado o lanzamiento de una moneda"
   ]
  },
  {
   "cell_type": "code",
   "execution_count": null,
   "id": "99e1116f-e6ad-4c1e-8017-1952e23e206f",
   "metadata": {},
   "outputs": [
    {
     "name": "stdout",
     "output_type": "stream",
     "text": [
      "Cruz\n"
     ]
    },
    {
     "name": "stdin",
     "output_type": "stream",
     "text": [
      "Tirar de nuevo (S/N) s\n"
     ]
    },
    {
     "name": "stdout",
     "output_type": "stream",
     "text": [
      "Cara\n"
     ]
    },
    {
     "name": "stdin",
     "output_type": "stream",
     "text": [
      "Tirar de nuevo (S/N) s\n"
     ]
    },
    {
     "name": "stdout",
     "output_type": "stream",
     "text": [
      "Cruz\n"
     ]
    },
    {
     "name": "stdin",
     "output_type": "stream",
     "text": [
      "Tirar de nuevo (S/N) s\n"
     ]
    },
    {
     "name": "stdout",
     "output_type": "stream",
     "text": [
      "Cara\n"
     ]
    }
   ],
   "source": [
    "import random\n",
    "\n",
    "while True:\n",
    "    moneda = random.randint(1, 2)\n",
    "    if moneda == 1:\n",
    "        print (\"Cara\")\n",
    "    else:\n",
    "        print (\"Cruz\")\n",
    "    jugar = input(\"Tirar de nuevo (S/N)\")\n",
    "    if jugar.lower() == 'n':\n",
    "        break\n",
    "print(\"Gracias por jugar\")"
   ]
  },
  {
   "cell_type": "code",
   "execution_count": null,
   "id": "87b4f683-ab34-4114-b8a5-ab25aeda0147",
   "metadata": {},
   "outputs": [],
   "source": []
  }
 ],
 "metadata": {
  "kernelspec": {
   "display_name": "Python 3 (ipykernel)",
   "language": "python",
   "name": "python3"
  },
  "language_info": {
   "codemirror_mode": {
    "name": "ipython",
    "version": 3
   },
   "file_extension": ".py",
   "mimetype": "text/x-python",
   "name": "python",
   "nbconvert_exporter": "python",
   "pygments_lexer": "ipython3",
   "version": "3.12.4"
  }
 },
 "nbformat": 4,
 "nbformat_minor": 5
}
