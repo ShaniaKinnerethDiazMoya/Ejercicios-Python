{
 "cells": [
  {
   "cell_type": "markdown",
   "id": "f64cbcae-6be8-4247-b6b5-08c7476ae419",
   "metadata": {},
   "source": [
    "# Ejercicios 38"
   ]
  },
  {
   "cell_type": "markdown",
   "id": "3dcf8ec8-c32b-4956-91a4-0dd12c057880",
   "metadata": {},
   "source": [
    "### Determina si un numero es divisible entre 5 o 7 "
   ]
  },
  {
   "cell_type": "code",
   "execution_count": 5,
   "id": "4deed79d-1af5-4431-b87b-3acd94ed53fb",
   "metadata": {},
   "outputs": [
    {
     "name": "stdout",
     "output_type": "stream",
     "text": [
      "ES divisible entre 5 y 7\n"
     ]
    }
   ],
   "source": [
    "numero = 35\n",
    "\n",
    "if numero % 5 == 0 and numero % 7 == 0:\n",
    "    print(\"ES divisible entre 5 y 7\")\n",
    "else:\n",
    "    print(\"No es divisible entre 5 y 7\")"
   ]
  },
  {
   "cell_type": "code",
   "execution_count": null,
   "id": "bc837ecc-44a9-4d16-b444-e69bd5244d50",
   "metadata": {},
   "outputs": [],
   "source": []
  }
 ],
 "metadata": {
  "kernelspec": {
   "display_name": "Python 3 (ipykernel)",
   "language": "python",
   "name": "python3"
  },
  "language_info": {
   "codemirror_mode": {
    "name": "ipython",
    "version": 3
   },
   "file_extension": ".py",
   "mimetype": "text/x-python",
   "name": "python",
   "nbconvert_exporter": "python",
   "pygments_lexer": "ipython3",
   "version": "3.12.4"
  }
 },
 "nbformat": 4,
 "nbformat_minor": 5
}
