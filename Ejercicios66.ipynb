{
 "cells": [
  {
   "cell_type": "markdown",
   "id": "d1bba670-b189-4ab8-9996-d0608ba6226f",
   "metadata": {},
   "source": [
    "# Ejercicios 66"
   ]
  },
  {
   "cell_type": "markdown",
   "id": "5b4635ab-b951-4520-b309-dd385c45aedb",
   "metadata": {},
   "source": [
    "### Escribe una funcion para calcular el promedio de una lista de numeros "
   ]
  },
  {
   "cell_type": "code",
   "execution_count": 3,
   "id": "3bbec40e-89d3-44d0-9bbc-420b62076629",
   "metadata": {},
   "outputs": [
    {
     "data": {
      "text/plain": [
       "7.0"
      ]
     },
     "execution_count": 3,
     "metadata": {},
     "output_type": "execute_result"
    }
   ],
   "source": [
    "def promedio(lista):\n",
    "    return sum(lista) / len(lista)\n",
    "\n",
    "resultado = promedio([4,6,8,10])\n",
    "\n",
    "resultado"
   ]
  },
  {
   "cell_type": "code",
   "execution_count": null,
   "id": "759c63a6-4d68-410f-bf12-c20947fe5fd2",
   "metadata": {},
   "outputs": [],
   "source": []
  }
 ],
 "metadata": {
  "kernelspec": {
   "display_name": "Python 3 (ipykernel)",
   "language": "python",
   "name": "python3"
  },
  "language_info": {
   "codemirror_mode": {
    "name": "ipython",
    "version": 3
   },
   "file_extension": ".py",
   "mimetype": "text/x-python",
   "name": "python",
   "nbconvert_exporter": "python",
   "pygments_lexer": "ipython3",
   "version": "3.12.4"
  }
 },
 "nbformat": 4,
 "nbformat_minor": 5
}
