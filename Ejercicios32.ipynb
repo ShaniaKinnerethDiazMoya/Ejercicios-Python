{
 "cells": [
  {
   "cell_type": "markdown",
   "id": "577da5e6-46b1-44dd-8ebf-f8a88504e4ac",
   "metadata": {},
   "source": [
    "# Ejercicios 32"
   ]
  },
  {
   "cell_type": "markdown",
   "id": "e94bad46-82a2-45e0-8e56-853a96f1c7ac",
   "metadata": {},
   "source": [
    "### Pide un numero y comprueba si el numero es par o impar utilizando if y modulo"
   ]
  },
  {
   "cell_type": "code",
   "execution_count": 8,
   "id": "2f4e24cc-07df-43c1-9983-77ba9c5edb39",
   "metadata": {},
   "outputs": [
    {
     "name": "stdin",
     "output_type": "stream",
     "text": [
      "Escribe un numero 4\n"
     ]
    },
    {
     "name": "stdout",
     "output_type": "stream",
     "text": [
      "Numero par\n"
     ]
    }
   ],
   "source": [
    "numero = int(input(\"Escribe un numero\"))\n",
    "\n",
    "if numero % 2 == 0:\n",
    "    print('Numero par')\n",
    "else: \n",
    "    print('numero impar')"
   ]
  },
  {
   "cell_type": "code",
   "execution_count": null,
   "id": "562a4a4b-b508-4cfa-8231-a72732f81753",
   "metadata": {},
   "outputs": [],
   "source": []
  }
 ],
 "metadata": {
  "kernelspec": {
   "display_name": "Python 3 (ipykernel)",
   "language": "python",
   "name": "python3"
  },
  "language_info": {
   "codemirror_mode": {
    "name": "ipython",
    "version": 3
   },
   "file_extension": ".py",
   "mimetype": "text/x-python",
   "name": "python",
   "nbconvert_exporter": "python",
   "pygments_lexer": "ipython3",
   "version": "3.12.4"
  }
 },
 "nbformat": 4,
 "nbformat_minor": 5
}
