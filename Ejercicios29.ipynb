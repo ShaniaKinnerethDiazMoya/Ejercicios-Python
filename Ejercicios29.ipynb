{
 "cells": [
  {
   "cell_type": "markdown",
   "id": "4f8b8cb6-6e32-4eef-8135-c22b8db9e36b",
   "metadata": {},
   "source": [
    "# Ejercicios 29"
   ]
  },
  {
   "cell_type": "markdown",
   "id": "5fe4e904-dac2-4be4-adc2-05fe0e3a63a9",
   "metadata": {},
   "source": [
    "### Combina dos listas en pares usando la funcion zip()"
   ]
  },
  {
   "cell_type": "code",
   "execution_count": 5,
   "id": "24aa49c5-6bbc-47ad-9b23-339a061a68e9",
   "metadata": {},
   "outputs": [
    {
     "data": {
      "text/plain": [
       "[(1, 'b'), (2, 'a'), (3, 'c')]"
      ]
     },
     "execution_count": 5,
     "metadata": {},
     "output_type": "execute_result"
    }
   ],
   "source": [
    "lista1 = [1,2,3]\n",
    "lista2 = {'a','b','c'}\n",
    "pares = list(zip(lista1, lista2))\n",
    "pares"
   ]
  },
  {
   "cell_type": "code",
   "execution_count": null,
   "id": "0952477f-5dc9-40c0-819f-cd5f35e4b857",
   "metadata": {},
   "outputs": [],
   "source": []
  }
 ],
 "metadata": {
  "kernelspec": {
   "display_name": "Python 3 (ipykernel)",
   "language": "python",
   "name": "python3"
  },
  "language_info": {
   "codemirror_mode": {
    "name": "ipython",
    "version": 3
   },
   "file_extension": ".py",
   "mimetype": "text/x-python",
   "name": "python",
   "nbconvert_exporter": "python",
   "pygments_lexer": "ipython3",
   "version": "3.12.4"
  }
 },
 "nbformat": 4,
 "nbformat_minor": 5
}
