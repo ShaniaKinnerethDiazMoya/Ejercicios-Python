{
 "cells": [
  {
   "cell_type": "markdown",
   "id": "1f753458-91af-4a75-9453-f63ef2f9854c",
   "metadata": {},
   "source": [
    "# Ejercicios 75"
   ]
  },
  {
   "cell_type": "markdown",
   "id": "5fc3a9c8-f62b-4157-aa22-7744668684c0",
   "metadata": {},
   "source": [
    "### Crea una clase coche"
   ]
  },
  {
   "cell_type": "code",
   "execution_count": 7,
   "id": "80699a65-92ad-4956-8bc4-b364e877442a",
   "metadata": {},
   "outputs": [
    {
     "ename": "TypeError",
     "evalue": "Coche() takes no arguments",
     "output_type": "error",
     "traceback": [
      "\u001b[0;31m---------------------------------------------------------------------------\u001b[0m",
      "\u001b[0;31mTypeError\u001b[0m                                 Traceback (most recent call last)",
      "Cell \u001b[0;32mIn[7], line 12\u001b[0m\n\u001b[1;32m      9\u001b[0m     \u001b[38;5;28;01mdef\u001b[39;00m \u001b[38;5;21mavanzar\u001b[39m(\u001b[38;5;28mself\u001b[39m, km):\n\u001b[1;32m     10\u001b[0m         \u001b[38;5;28mself\u001b[39m\u001b[38;5;241m.\u001b[39mkm \u001b[38;5;241m=\u001b[39m \u001b[38;5;28mself\u001b[39m\u001b[38;5;241m.\u001b[39mkm \u001b[38;5;241m+\u001b[39m km\n\u001b[0;32m---> 12\u001b[0m coche1 \u001b[38;5;241m=\u001b[39m Coche(\u001b[38;5;124m'\u001b[39m\u001b[38;5;124mford\u001b[39m\u001b[38;5;124m'\u001b[39m, \u001b[38;5;124m'\u001b[39m\u001b[38;5;124mfiesta\u001b[39m\u001b[38;5;124m'\u001b[39m, \u001b[38;5;124m'\u001b[39m\u001b[38;5;124mabc\u001b[39m\u001b[38;5;124m'\u001b[39m, \u001b[38;5;241m5000\u001b[39m)\n\u001b[1;32m     13\u001b[0m \u001b[38;5;28mprint\u001b[39m(coche1\u001b[38;5;241m.\u001b[39m\u001b[38;5;18m__dict__\u001b[39m)\n\u001b[1;32m     14\u001b[0m coche1\u001b[38;5;241m.\u001b[39mavanzar(\u001b[38;5;241m3000\u001b[39m)\n",
      "\u001b[0;31mTypeError\u001b[0m: Coche() takes no arguments"
     ]
    }
   ],
   "source": [
    "class Coche:\n",
    "    \n",
    "    def __init___(self, marca, modelo, matricula, km):\n",
    "        self.marca = marca\n",
    "        self.modelo = modelo\n",
    "        self.matricula = matricula\n",
    "        self.km = km\n",
    "\n",
    "    def avanzar(self, km):\n",
    "        self.km = self.km + km\n",
    "\n",
    "coche1 = Coche('ford', 'fiesta', 'abc', 5000)\n",
    "print(coche1.__dict__)\n",
    "coche1.avanzar(3000)\n",
    "print(coche1.__dict__)\n",
    "\n"
   ]
  },
  {
   "cell_type": "code",
   "execution_count": null,
   "id": "a51218ca-310b-4f46-a11f-7cf1d5a1d286",
   "metadata": {},
   "outputs": [],
   "source": []
  }
 ],
 "metadata": {
  "kernelspec": {
   "display_name": "Python 3 (ipykernel)",
   "language": "python",
   "name": "python3"
  },
  "language_info": {
   "codemirror_mode": {
    "name": "ipython",
    "version": 3
   },
   "file_extension": ".py",
   "mimetype": "text/x-python",
   "name": "python",
   "nbconvert_exporter": "python",
   "pygments_lexer": "ipython3",
   "version": "3.12.4"
  }
 },
 "nbformat": 4,
 "nbformat_minor": 5
}
