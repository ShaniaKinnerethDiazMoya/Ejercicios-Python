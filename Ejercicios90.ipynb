{
 "cells": [
  {
   "cell_type": "markdown",
   "id": "9d760c15-56bb-4df8-a106-a740f5f25205",
   "metadata": {},
   "source": [
    "# Ejercicios 90"
   ]
  },
  {
   "cell_type": "markdown",
   "id": "fd74b5a3-26ce-4ebc-904e-e19d32c6a442",
   "metadata": {},
   "source": [
    "### Duplica cada elemento de una lista usando map y lambda "
   ]
  },
  {
   "cell_type": "code",
   "execution_count": null,
   "id": "f398bd74-7a1b-48c8-84f9-6ba7cfad66e5",
   "metadata": {},
   "outputs": [],
   "source": [
    "numeros = [1,2,3,4,5]\n",
    "duplicamos = list(map(lambda x:x*2, numeros))\n"
   ]
  }
 ],
 "metadata": {
  "kernelspec": {
   "display_name": "Python 3 (ipykernel)",
   "language": "python",
   "name": "python3"
  },
  "language_info": {
   "codemirror_mode": {
    "name": "ipython",
    "version": 3
   },
   "file_extension": ".py",
   "mimetype": "text/x-python",
   "name": "python",
   "nbconvert_exporter": "python",
   "pygments_lexer": "ipython3",
   "version": "3.12.4"
  }
 },
 "nbformat": 4,
 "nbformat_minor": 5
}
