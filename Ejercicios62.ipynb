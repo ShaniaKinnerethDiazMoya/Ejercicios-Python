{
 "cells": [
  {
   "cell_type": "markdown",
   "id": "d8fbf923-9be0-4e61-b5e8-67c5150e507d",
   "metadata": {},
   "source": [
    "# Ejercicios 62"
   ]
  },
  {
   "cell_type": "markdown",
   "id": "9e5ff315-75ec-4a41-bd80-be7d9691b6d5",
   "metadata": {},
   "source": [
    "### Crea una funcion para calcular el area de un circulo"
   ]
  },
  {
   "cell_type": "code",
   "execution_count": 11,
   "id": "c1196b11-fa71-43ff-bb5c-684d4a9be1d9",
   "metadata": {},
   "outputs": [
    {
     "name": "stdout",
     "output_type": "stream",
     "text": [
      "78.53981633974483\n"
     ]
    }
   ],
   "source": [
    "import math \n",
    "def area_circulo(radio):\n",
    "    return math.pi * radio ** 2\n",
    "resultado = area_circulo(5)\n",
    "print(resultado)"
   ]
  },
  {
   "cell_type": "code",
   "execution_count": null,
   "id": "548a7948-f30a-4bbd-9510-f1238d420aad",
   "metadata": {},
   "outputs": [],
   "source": []
  }
 ],
 "metadata": {
  "kernelspec": {
   "display_name": "Python 3 (ipykernel)",
   "language": "python",
   "name": "python3"
  },
  "language_info": {
   "codemirror_mode": {
    "name": "ipython",
    "version": 3
   },
   "file_extension": ".py",
   "mimetype": "text/x-python",
   "name": "python",
   "nbconvert_exporter": "python",
   "pygments_lexer": "ipython3",
   "version": "3.12.4"
  }
 },
 "nbformat": 4,
 "nbformat_minor": 5
}
