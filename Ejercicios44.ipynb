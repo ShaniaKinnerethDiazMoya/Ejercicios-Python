{
 "cells": [
  {
   "cell_type": "markdown",
   "id": "de23201f-780c-4643-84e6-1f504671a7ce",
   "metadata": {},
   "source": [
    "# Ejercicios 44"
   ]
  },
  {
   "cell_type": "markdown",
   "id": "0d8a9fcb-a359-43c0-a49d-483b27de813f",
   "metadata": {},
   "source": [
    "### Genera un numero aleatorio entre 1 y 10.\n",
    "### Luego pide al usuario adivinar el numero hasta que lo haga correctamente "
   ]
  },
  {
   "cell_type": "code",
   "execution_count": null,
   "id": "cec7e501-107f-4820-9e84-75513496ab8d",
   "metadata": {},
   "outputs": [
    {
     "name": "stdin",
     "output_type": "stream",
     "text": [
      "Adivina el numero 7\n",
      "Adivina el numero 6\n",
      "Adivina el numero 5\n"
     ]
    },
    {
     "name": "stdout",
     "output_type": "stream",
     "text": [
      "exito! tomo 3 intentos\n"
     ]
    }
   ],
   "source": [
    "import random\n",
    "numero_secreto = random.randint(1,10)\n",
    "intentos = 0\n",
    "\n",
    "while True:\n",
    "    intento = int(input('Adivina el numero'))\n",
    "    intentos = intentos + 1\n",
    "    if intento == numero_secreto:\n",
    "        print(f\"exito! tomo {intentos} intentos\")"
   ]
  },
  {
   "cell_type": "code",
   "execution_count": null,
   "id": "aa927dec-93a2-4d82-864c-64a9dde6d835",
   "metadata": {},
   "outputs": [],
   "source": []
  }
 ],
 "metadata": {
  "kernelspec": {
   "display_name": "Python 3 (ipykernel)",
   "language": "python",
   "name": "python3"
  },
  "language_info": {
   "codemirror_mode": {
    "name": "ipython",
    "version": 3
   },
   "file_extension": ".py",
   "mimetype": "text/x-python",
   "name": "python",
   "nbconvert_exporter": "python",
   "pygments_lexer": "ipython3",
   "version": "3.12.4"
  }
 },
 "nbformat": 4,
 "nbformat_minor": 5
}
