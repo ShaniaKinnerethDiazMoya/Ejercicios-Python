{
 "cells": [
  {
   "cell_type": "markdown",
   "id": "e46cb47b-3dcb-40e4-a4bc-b4bc153fc000",
   "metadata": {},
   "source": [
    "# Ejercicios 74"
   ]
  },
  {
   "cell_type": "markdown",
   "id": "a45a02db-ed8b-440a-8851-32cfdb21ee29",
   "metadata": {},
   "source": [
    "### Crea una clase persona"
   ]
  },
  {
   "cell_type": "code",
   "execution_count": 6,
   "id": "d320cc8d-3d9b-42de-a43a-5b10b279c9d6",
   "metadata": {},
   "outputs": [
    {
     "name": "stdout",
     "output_type": "stream",
     "text": [
      "El nombre es  Jose\n",
      "Es mayor de edad\n"
     ]
    }
   ],
   "source": [
    "class Persona:\n",
    "\n",
    "    def __init__(self, nombre, edad, dni):\n",
    "        self.nombre = nombre\n",
    "        self.edad = edad\n",
    "        self.dni = dni\n",
    "\n",
    "    def es_mayor_de_edad(self):\n",
    "        if self.edad >= 18:\n",
    "            return True\n",
    "\n",
    "persona1 = Persona('Jose', 20, 'QUERTY')\n",
    "\n",
    "print(\"El nombre es \", persona1.nombre)\n",
    "if persona1.es_mayor_de_edad():\n",
    "    print(\"Es mayor de edad\")"
   ]
  },
  {
   "cell_type": "code",
   "execution_count": null,
   "id": "14d1eefb-9d01-426f-95d5-ffe9221297d5",
   "metadata": {},
   "outputs": [],
   "source": []
  }
 ],
 "metadata": {
  "kernelspec": {
   "display_name": "Python 3 (ipykernel)",
   "language": "python",
   "name": "python3"
  },
  "language_info": {
   "codemirror_mode": {
    "name": "ipython",
    "version": 3
   },
   "file_extension": ".py",
   "mimetype": "text/x-python",
   "name": "python",
   "nbconvert_exporter": "python",
   "pygments_lexer": "ipython3",
   "version": "3.12.4"
  }
 },
 "nbformat": 4,
 "nbformat_minor": 5
}
