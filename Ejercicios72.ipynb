{
 "cells": [
  {
   "cell_type": "markdown",
   "id": "15958f4c-4524-4cb9-bbe4-8f88245e7d54",
   "metadata": {},
   "source": [
    "# Ejercicios 72"
   ]
  },
  {
   "cell_type": "markdown",
   "id": "aa6ea286-8bd5-4dbc-9a95-293394b2f771",
   "metadata": {},
   "source": [
    "### Crearuna clase circulo"
   ]
  },
  {
   "cell_type": "code",
   "execution_count": 6,
   "id": "29212d8f-b056-4a5b-89cb-5a4b48b6dd68",
   "metadata": {},
   "outputs": [
    {
     "name": "stdout",
     "output_type": "stream",
     "text": [
      "Area: 78.53981633974483\n",
      "Perimetro: 31.41592653589793\n"
     ]
    }
   ],
   "source": [
    "import math\n",
    "class Circulo:\n",
    "    def __init__(self, radio):\n",
    "        self.radio = radio\n",
    "\n",
    "    def calcular_area(self):\n",
    "        return math.pi * self.radio ** 2\n",
    "\n",
    "    def calcular_perimetro(self):\n",
    "        return 2 * math.pi * self.radio\n",
    "\n",
    "cir1 = Circulo(5)\n",
    "\n",
    "print(f\"Area: {cir1.calcular_area()}\")\n",
    "print(f\"Perimetro: {cir1.calcular_perimetro()}\")"
   ]
  },
  {
   "cell_type": "code",
   "execution_count": null,
   "id": "d32fabbf-5c07-491f-8963-025c1a05ff0d",
   "metadata": {},
   "outputs": [],
   "source": []
  }
 ],
 "metadata": {
  "kernelspec": {
   "display_name": "Python 3 (ipykernel)",
   "language": "python",
   "name": "python3"
  },
  "language_info": {
   "codemirror_mode": {
    "name": "ipython",
    "version": 3
   },
   "file_extension": ".py",
   "mimetype": "text/x-python",
   "name": "python",
   "nbconvert_exporter": "python",
   "pygments_lexer": "ipython3",
   "version": "3.12.4"
  }
 },
 "nbformat": 4,
 "nbformat_minor": 5
}
