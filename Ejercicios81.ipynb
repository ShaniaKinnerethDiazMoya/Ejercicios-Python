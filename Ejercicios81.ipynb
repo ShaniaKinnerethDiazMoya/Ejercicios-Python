{
 "cells": [
  {
   "cell_type": "markdown",
   "id": "55ff8f1b-f1e0-43a0-8a5f-818bc822d930",
   "metadata": {},
   "source": [
    "# Ejercicios 81"
   ]
  },
  {
   "cell_type": "markdown",
   "id": "c00cab54-ae50-4aca-b096-dfdf1e580d2c",
   "metadata": {},
   "source": [
    "### Elevar al cuadrado una lista de numeros utilizando map"
   ]
  },
  {
   "cell_type": "code",
   "execution_count": 3,
   "id": "67f658ae-348b-4fe6-b501-79d3c3eef831",
   "metadata": {},
   "outputs": [
    {
     "name": "stdout",
     "output_type": "stream",
     "text": [
      "[1, 2, 3, 4, 5]\n",
      "[1, 4, 9, 16, 25]\n"
     ]
    }
   ],
   "source": [
    "def cuadrado(x):\n",
    "    return x ** 2\n",
    "\n",
    "numeros = [1,2,3,4,5]\n",
    "cuadrados = list(map(cuadrado, numeros))\n",
    "\n",
    "print (numeros)\n",
    "print (cuadrados)"
   ]
  },
  {
   "cell_type": "code",
   "execution_count": null,
   "id": "ae280fe1-09fe-4ecc-a927-947975065d95",
   "metadata": {},
   "outputs": [],
   "source": []
  }
 ],
 "metadata": {
  "kernelspec": {
   "display_name": "Python 3 (ipykernel)",
   "language": "python",
   "name": "python3"
  },
  "language_info": {
   "codemirror_mode": {
    "name": "ipython",
    "version": 3
   },
   "file_extension": ".py",
   "mimetype": "text/x-python",
   "name": "python",
   "nbconvert_exporter": "python",
   "pygments_lexer": "ipython3",
   "version": "3.12.4"
  }
 },
 "nbformat": 4,
 "nbformat_minor": 5
}
