{
 "cells": [
  {
   "cell_type": "markdown",
   "id": "319c0888-02ca-4904-a795-8df7d03f1ce3",
   "metadata": {},
   "source": [
    "# Ejercicios 86"
   ]
  },
  {
   "cell_type": "markdown",
   "id": "d950f3bc-a543-4afb-90e0-94bb23e65c29",
   "metadata": {},
   "source": [
    "### Elevar un numero al cuadrado utilizando una funcion lambda"
   ]
  },
  {
   "cell_type": "code",
   "execution_count": 3,
   "id": "e6dea492-e207-487b-8d8b-105496fdea37",
   "metadata": {},
   "outputs": [
    {
     "name": "stdout",
     "output_type": "stream",
     "text": [
      "25\n"
     ]
    }
   ],
   "source": [
    "cuadrado = lambda x : x ** 2\n",
    "print(cuadrado(5))"
   ]
  },
  {
   "cell_type": "code",
   "execution_count": null,
   "id": "bdc1bb9a-9a97-4bba-adad-ea7d7b55fdca",
   "metadata": {},
   "outputs": [],
   "source": []
  }
 ],
 "metadata": {
  "kernelspec": {
   "display_name": "Python 3 (ipykernel)",
   "language": "python",
   "name": "python3"
  },
  "language_info": {
   "codemirror_mode": {
    "name": "ipython",
    "version": 3
   },
   "file_extension": ".py",
   "mimetype": "text/x-python",
   "name": "python",
   "nbconvert_exporter": "python",
   "pygments_lexer": "ipython3",
   "version": "3.12.4"
  }
 },
 "nbformat": 4,
 "nbformat_minor": 5
}
