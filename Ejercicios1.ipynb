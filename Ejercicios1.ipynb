{
 "cells": [
  {
   "cell_type": "markdown",
   "id": "57d5311b-b92d-4651-a6a9-4619fbfc8d4a",
   "metadata": {},
   "source": [
    "# Ejercicios 1"
   ]
  },
  {
   "cell_type": "markdown",
   "id": "60bfff03-e39c-4bfc-a84c-0cf56fe03989",
   "metadata": {},
   "source": [
    "### Suma dos numeros y mostrar su resultado"
   ]
  },
  {
   "cell_type": "code",
   "execution_count": 2,
   "id": "4cc1e0cf-665e-4dc2-a880-5f405d409b63",
   "metadata": {},
   "outputs": [
    {
     "data": {
      "text/plain": [
       "7"
      ]
     },
     "execution_count": 2,
     "metadata": {},
     "output_type": "execute_result"
    }
   ],
   "source": [
    "numero1 = 3\n",
    "numero2 = 4\n",
    "resultado = numero1 + numero2\n",
    "\n",
    "resultado"
   ]
  },
  {
   "cell_type": "markdown",
   "id": "b924c79c-194a-4b76-8fa6-cb6c7085a595",
   "metadata": {},
   "source": [
    "### Restar dos numeros y mostrar su resultado"
   ]
  },
  {
   "cell_type": "code",
   "execution_count": 5,
   "id": "fa6d5c23-b878-4a8b-9d60-66d956a23f61",
   "metadata": {},
   "outputs": [
    {
     "data": {
      "text/plain": [
       "5"
      ]
     },
     "execution_count": 5,
     "metadata": {},
     "output_type": "execute_result"
    }
   ],
   "source": [
    "numero1 = 10\n",
    "numero2 = 5\n",
    "resultado = numero1 - numero2\n",
    "\n",
    "resultado"
   ]
  },
  {
   "cell_type": "code",
   "execution_count": null,
   "id": "78907c81-44e9-4d54-b45f-307e958686a9",
   "metadata": {},
   "outputs": [],
   "source": []
  }
 ],
 "metadata": {
  "kernelspec": {
   "display_name": "Python 3 (ipykernel)",
   "language": "python",
   "name": "python3"
  },
  "language_info": {
   "codemirror_mode": {
    "name": "ipython",
    "version": 3
   },
   "file_extension": ".py",
   "mimetype": "text/x-python",
   "name": "python",
   "nbconvert_exporter": "python",
   "pygments_lexer": "ipython3",
   "version": "3.12.4"
  }
 },
 "nbformat": 4,
 "nbformat_minor": 5
}
