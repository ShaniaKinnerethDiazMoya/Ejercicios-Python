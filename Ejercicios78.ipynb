{
 "cells": [
  {
   "cell_type": "markdown",
   "id": "74d4dd39-0564-4bdc-aabe-c32125af48b5",
   "metadata": {},
   "source": [
    "# Ejercicios 78"
   ]
  },
  {
   "cell_type": "markdown",
   "id": "0f75ce8c-67a5-4eed-aa3e-a96889ffdd69",
   "metadata": {},
   "source": [
    "### Crea una clase persona y otra estudiante"
   ]
  },
  {
   "cell_type": "code",
   "execution_count": 6,
   "id": "20ccd9b5-0dd9-4393-be95-5fc31a278d1e",
   "metadata": {},
   "outputs": [
    {
     "ename": "TypeError",
     "evalue": "Estudiante() takes no arguments",
     "output_type": "error",
     "traceback": [
      "\u001b[0;31m---------------------------------------------------------------------------\u001b[0m",
      "\u001b[0;31mTypeError\u001b[0m                                 Traceback (most recent call last)",
      "Cell \u001b[0;32mIn[6], line 17\u001b[0m\n\u001b[1;32m     14\u001b[0m     \u001b[38;5;28;01mdef\u001b[39;00m \u001b[38;5;21mmostrar\u001b[39m(\u001b[38;5;28mself\u001b[39m):\n\u001b[1;32m     15\u001b[0m         \u001b[38;5;28msuper\u001b[39m()\u001b[38;5;241m.\u001b[39mmostrar_nombre()\n\u001b[0;32m---> 17\u001b[0m estudiante1 \u001b[38;5;241m=\u001b[39m Estudiante(\u001b[38;5;124m'\u001b[39m\u001b[38;5;124mJose\u001b[39m\u001b[38;5;124m'\u001b[39m)\n\u001b[1;32m     18\u001b[0m estudiante1\u001b[38;5;241m.\u001b[39mmostrar()\n",
      "\u001b[0;31mTypeError\u001b[0m: Estudiante() takes no arguments"
     ]
    }
   ],
   "source": [
    "class Persona:\n",
    "    \n",
    "    def __init___(self, nombre):\n",
    "        self.nombre = nombre\n",
    "\n",
    "    def mostrar_nombre(self):\n",
    "        print(self.nombre)\n",
    "\n",
    "class Estudiante(Persona):\n",
    "\n",
    "    def __init___(self, nombre):\n",
    "        super().__init__(nombre)\n",
    "\n",
    "    def mostrar(self):\n",
    "        super().mostrar_nombre()\n",
    "\n",
    "estudiante1 = Estudiante('Jose')\n",
    "estudiante1.mostrar()"
   ]
  },
  {
   "cell_type": "code",
   "execution_count": null,
   "id": "496da326-cc56-4d38-ac86-d1faba86b321",
   "metadata": {},
   "outputs": [],
   "source": []
  }
 ],
 "metadata": {
  "kernelspec": {
   "display_name": "Python 3 (ipykernel)",
   "language": "python",
   "name": "python3"
  },
  "language_info": {
   "codemirror_mode": {
    "name": "ipython",
    "version": 3
   },
   "file_extension": ".py",
   "mimetype": "text/x-python",
   "name": "python",
   "nbconvert_exporter": "python",
   "pygments_lexer": "ipython3",
   "version": "3.12.4"
  }
 },
 "nbformat": 4,
 "nbformat_minor": 5
}
