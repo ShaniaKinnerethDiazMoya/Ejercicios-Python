{
 "cells": [
  {
   "cell_type": "markdown",
   "id": "1f3a5449-d67a-47c7-9e4b-b1c1c0e89073",
   "metadata": {},
   "source": [
    "# Ejercicios 45"
   ]
  },
  {
   "cell_type": "markdown",
   "id": "2a364a0f-ad79-4eb0-bcba-009ef5f83c49",
   "metadata": {},
   "source": [
    "### Imprime la tabla de multiplicar de un numero ingresado por el usuario"
   ]
  },
  {
   "cell_type": "code",
   "execution_count": 3,
   "id": "a2ccdba8-a80b-4d90-8834-ff393cd066e7",
   "metadata": {},
   "outputs": [
    {
     "name": "stdin",
     "output_type": "stream",
     "text": [
      "Ingresa el numero 5\n"
     ]
    },
    {
     "name": "stdout",
     "output_type": "stream",
     "text": [
      "5 * 1 = 5\n",
      "5 * 2 = 10\n",
      "5 * 3 = 15\n",
      "5 * 4 = 20\n",
      "5 * 5 = 25\n",
      "5 * 6 = 30\n",
      "5 * 7 = 35\n",
      "5 * 8 = 40\n",
      "5 * 9 = 45\n",
      "5 * 10 = 50\n"
     ]
    }
   ],
   "source": [
    "numero = int(input(\"Ingresa el numero\"))\n",
    "i = 1\n",
    "while i <= 10:\n",
    "    print(f\"{numero} * {i} = {numero * i}\")\n",
    "    i = i + 1"
   ]
  },
  {
   "cell_type": "code",
   "execution_count": null,
   "id": "30f50171-cac0-43ce-9fd2-5c06f3152694",
   "metadata": {},
   "outputs": [],
   "source": []
  }
 ],
 "metadata": {
  "kernelspec": {
   "display_name": "Python 3 (ipykernel)",
   "language": "python",
   "name": "python3"
  },
  "language_info": {
   "codemirror_mode": {
    "name": "ipython",
    "version": 3
   },
   "file_extension": ".py",
   "mimetype": "text/x-python",
   "name": "python",
   "nbconvert_exporter": "python",
   "pygments_lexer": "ipython3",
   "version": "3.12.4"
  }
 },
 "nbformat": 4,
 "nbformat_minor": 5
}
