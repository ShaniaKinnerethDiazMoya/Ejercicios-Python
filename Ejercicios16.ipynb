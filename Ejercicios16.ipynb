{
 "cells": [
  {
   "cell_type": "markdown",
   "id": "7b8aff61-a10a-4dfb-b51f-48a5105c3d8b",
   "metadata": {},
   "source": [
    "# Ejercicios 16"
   ]
  },
  {
   "cell_type": "markdown",
   "id": "35e2c0c5-1d59-4160-b197-5a285903cfaf",
   "metadata": {},
   "source": [
    "### Calcular 2 elevado a alguna potencia"
   ]
  },
  {
   "cell_type": "code",
   "execution_count": 5,
   "id": "ea319b2a-714b-4ad1-8d6e-5aa98d773b15",
   "metadata": {},
   "outputs": [
    {
     "data": {
      "text/plain": [
       "16"
      ]
     },
     "execution_count": 5,
     "metadata": {},
     "output_type": "execute_result"
    }
   ],
   "source": [
    "resultado = pow(2, 4)\n",
    "resultado"
   ]
  },
  {
   "cell_type": "code",
   "execution_count": null,
   "id": "f739793e-06a3-49f2-8935-2c0924ffa18d",
   "metadata": {},
   "outputs": [],
   "source": []
  }
 ],
 "metadata": {
  "kernelspec": {
   "display_name": "Python 3 (ipykernel)",
   "language": "python",
   "name": "python3"
  },
  "language_info": {
   "codemirror_mode": {
    "name": "ipython",
    "version": 3
   },
   "file_extension": ".py",
   "mimetype": "text/x-python",
   "name": "python",
   "nbconvert_exporter": "python",
   "pygments_lexer": "ipython3",
   "version": "3.12.4"
  }
 },
 "nbformat": 4,
 "nbformat_minor": 5
}
