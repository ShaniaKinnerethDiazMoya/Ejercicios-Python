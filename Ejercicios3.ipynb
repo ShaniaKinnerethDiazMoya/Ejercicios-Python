{
 "cells": [
  {
   "cell_type": "markdown",
   "id": "dc6b2738-9c6b-4b51-9811-e191da93cc1e",
   "metadata": {},
   "source": [
    "# Ejercicios 3"
   ]
  },
  {
   "cell_type": "markdown",
   "id": "c79865bd-49af-4b6e-8e92-a074e909a75c",
   "metadata": {},
   "source": [
    "### Concatena dos cadenas de texto "
   ]
  },
  {
   "cell_type": "code",
   "execution_count": 5,
   "id": "99ecc50a-3707-4a9f-baae-702b53561790",
   "metadata": {},
   "outputs": [
    {
     "data": {
      "text/plain": [
       "'Hola mundo'"
      ]
     },
     "execution_count": 5,
     "metadata": {},
     "output_type": "execute_result"
    }
   ],
   "source": [
    "cadena1 = \"Hola\"\n",
    "cadena2 = \"mundo\"\n",
    "\n",
    "concatenacion = cadena1 + \" \" + cadena2\n",
    "\n",
    "concatenacion"
   ]
  },
  {
   "cell_type": "code",
   "execution_count": null,
   "id": "8643113e-e818-43e2-ad71-5d4e55088ab2",
   "metadata": {},
   "outputs": [],
   "source": []
  }
 ],
 "metadata": {
  "kernelspec": {
   "display_name": "Python 3 (ipykernel)",
   "language": "python",
   "name": "python3"
  },
  "language_info": {
   "codemirror_mode": {
    "name": "ipython",
    "version": 3
   },
   "file_extension": ".py",
   "mimetype": "text/x-python",
   "name": "python",
   "nbconvert_exporter": "python",
   "pygments_lexer": "ipython3",
   "version": "3.12.4"
  }
 },
 "nbformat": 4,
 "nbformat_minor": 5
}
