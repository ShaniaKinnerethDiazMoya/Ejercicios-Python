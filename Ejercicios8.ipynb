{
 "cells": [
  {
   "cell_type": "markdown",
   "id": "fa0143f0-dd68-433c-905c-feb8404a6af3",
   "metadata": {},
   "source": [
    "# Ejercicios 8"
   ]
  },
  {
   "cell_type": "markdown",
   "id": "8092e4a8-00fe-4f6b-b979-11d7707888b2",
   "metadata": {},
   "source": [
    "### Crea una tupla con elementos e imprimela"
   ]
  },
  {
   "cell_type": "code",
   "execution_count": 4,
   "id": "f2ec2e69-8d17-463a-82af-3e7195f9da94",
   "metadata": {},
   "outputs": [
    {
     "name": "stdout",
     "output_type": "stream",
     "text": [
      "tupla = (3, False, 'uno', 5.5)\n"
     ]
    }
   ],
   "source": [
    "tupla = (3, False, 'uno', 5.5)\n",
    "\n",
    "print(\"tupla =\", tupla)"
   ]
  },
  {
   "cell_type": "code",
   "execution_count": null,
   "id": "efe78970-e954-41dc-bc55-5e8ee489726c",
   "metadata": {},
   "outputs": [],
   "source": []
  }
 ],
 "metadata": {
  "kernelspec": {
   "display_name": "Python 3 (ipykernel)",
   "language": "python",
   "name": "python3"
  },
  "language_info": {
   "codemirror_mode": {
    "name": "ipython",
    "version": 3
   },
   "file_extension": ".py",
   "mimetype": "text/x-python",
   "name": "python",
   "nbconvert_exporter": "python",
   "pygments_lexer": "ipython3",
   "version": "3.12.4"
  }
 },
 "nbformat": 4,
 "nbformat_minor": 5
}
