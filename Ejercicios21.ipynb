{
 "cells": [
  {
   "cell_type": "markdown",
   "id": "b2abb998-91b9-4bbd-aa2a-89aa7e4886d7",
   "metadata": {},
   "source": [
    "# Ejercicios 21"
   ]
  },
  {
   "cell_type": "markdown",
   "id": "0fe97b80-9845-45d3-91ee-84fa6aaba350",
   "metadata": {},
   "source": [
    "### Multiplicar una cadena por un numero entero"
   ]
  },
  {
   "cell_type": "code",
   "execution_count": 3,
   "id": "70c2b80f-cb79-45e3-95f1-03b57e0a6d71",
   "metadata": {},
   "outputs": [
    {
     "data": {
      "text/plain": [
       "'hola hola hola hola '"
      ]
     },
     "execution_count": 3,
     "metadata": {},
     "output_type": "execute_result"
    }
   ],
   "source": [
    "cadena = 'hola '\n",
    "multiplicar = cadena * 4\n",
    "multiplicar"
   ]
  },
  {
   "cell_type": "code",
   "execution_count": null,
   "id": "6826f9a8-288a-4469-9fe7-5cf05e1df4ff",
   "metadata": {},
   "outputs": [],
   "source": []
  }
 ],
 "metadata": {
  "kernelspec": {
   "display_name": "Python 3 (ipykernel)",
   "language": "python",
   "name": "python3"
  },
  "language_info": {
   "codemirror_mode": {
    "name": "ipython",
    "version": 3
   },
   "file_extension": ".py",
   "mimetype": "text/x-python",
   "name": "python",
   "nbconvert_exporter": "python",
   "pygments_lexer": "ipython3",
   "version": "3.12.4"
  }
 },
 "nbformat": 4,
 "nbformat_minor": 5
}
