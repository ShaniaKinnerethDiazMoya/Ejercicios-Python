{
 "cells": [
  {
   "cell_type": "markdown",
   "id": "477e4e4b-1a69-436f-a0c6-bc4e18532c79",
   "metadata": {},
   "source": [
    "# Ejercicios 58"
   ]
  },
  {
   "cell_type": "markdown",
   "id": "2f39d6bb-9a11-4aa6-9600-8ac3f5a5f941",
   "metadata": {},
   "source": [
    "### Multiplicar todos los elementos de una lista por 2"
   ]
  },
  {
   "cell_type": "code",
   "execution_count": 3,
   "id": "3b480aa8-6ed7-4391-ae8e-ffda8ff38a27",
   "metadata": {},
   "outputs": [
    {
     "name": "stdout",
     "output_type": "stream",
     "text": [
      "6\n",
      "12\n",
      "18\n",
      "24\n",
      "30\n"
     ]
    }
   ],
   "source": [
    "lista1 = [3, 6, 9, 12, 15]\n",
    "\n",
    "for i in range(len(lista1)):\n",
    "    print(lista1[i] * 2)"
   ]
  },
  {
   "cell_type": "code",
   "execution_count": null,
   "id": "80e89a56-42ac-4f02-9cdb-4ead6ed9ef44",
   "metadata": {},
   "outputs": [],
   "source": []
  }
 ],
 "metadata": {
  "kernelspec": {
   "display_name": "Python 3 (ipykernel)",
   "language": "python",
   "name": "python3"
  },
  "language_info": {
   "codemirror_mode": {
    "name": "ipython",
    "version": 3
   },
   "file_extension": ".py",
   "mimetype": "text/x-python",
   "name": "python",
   "nbconvert_exporter": "python",
   "pygments_lexer": "ipython3",
   "version": "3.12.4"
  }
 },
 "nbformat": 4,
 "nbformat_minor": 5
}
