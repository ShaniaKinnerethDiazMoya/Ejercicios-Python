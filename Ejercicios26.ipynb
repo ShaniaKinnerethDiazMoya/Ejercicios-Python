{
 "cells": [
  {
   "cell_type": "markdown",
   "id": "ef8fb7f9-e239-4f32-a08f-8eb2c07a920a",
   "metadata": {},
   "source": [
    "# Ejercicios 26"
   ]
  },
  {
   "cell_type": "markdown",
   "id": "bdacf073-dd15-411d-a1cb-6be15d936e78",
   "metadata": {},
   "source": [
    "### Intercambia los valores de dos variables con asinacion multiple"
   ]
  },
  {
   "cell_type": "code",
   "execution_count": 5,
   "id": "9f1f182f-b26b-4c6e-9eb7-f0b27658f2fc",
   "metadata": {},
   "outputs": [
    {
     "data": {
      "text/plain": [
       "(10, 5)"
      ]
     },
     "execution_count": 5,
     "metadata": {},
     "output_type": "execute_result"
    }
   ],
   "source": [
    "a = 5\n",
    "b = 10\n",
    "a, b = b, a\n",
    "a, b"
   ]
  },
  {
   "cell_type": "code",
   "execution_count": null,
   "id": "4febfec0-aa07-4c88-99c8-f557e1b46a4a",
   "metadata": {},
   "outputs": [],
   "source": []
  }
 ],
 "metadata": {
  "kernelspec": {
   "display_name": "Python 3 (ipykernel)",
   "language": "python",
   "name": "python3"
  },
  "language_info": {
   "codemirror_mode": {
    "name": "ipython",
    "version": 3
   },
   "file_extension": ".py",
   "mimetype": "text/x-python",
   "name": "python",
   "nbconvert_exporter": "python",
   "pygments_lexer": "ipython3",
   "version": "3.12.4"
  }
 },
 "nbformat": 4,
 "nbformat_minor": 5
}
