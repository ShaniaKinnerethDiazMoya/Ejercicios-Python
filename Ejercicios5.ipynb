{
 "cells": [
  {
   "cell_type": "markdown",
   "id": "f1ad6d2f-dc8c-459c-88d5-6f622911042b",
   "metadata": {},
   "source": [
    "# Ejercicio 5"
   ]
  },
  {
   "cell_type": "markdown",
   "id": "4f2d95a5-aa90-4249-91c5-6c15d5d447bb",
   "metadata": {},
   "source": [
    "### Realiza la multiplicacion de dos numeros y muestra el resultado"
   ]
  },
  {
   "cell_type": "code",
   "execution_count": 4,
   "id": "265bc230-25c0-424a-a370-f8ebe870401a",
   "metadata": {},
   "outputs": [
    {
     "data": {
      "text/plain": [
       "15"
      ]
     },
     "execution_count": 4,
     "metadata": {},
     "output_type": "execute_result"
    }
   ],
   "source": [
    "num1 = 3\n",
    "num2 = 5\n",
    "\n",
    "resultado = num1 * num2\n",
    "\n",
    "resultado"
   ]
  },
  {
   "cell_type": "markdown",
   "id": "9d15dfa6-01ce-4f61-80f7-6ca8154a7e4c",
   "metadata": {},
   "source": [
    "### Realiza la division de dos numero y muestra el resultado\n"
   ]
  },
  {
   "cell_type": "code",
   "execution_count": 7,
   "id": "cd1ec0c1-ecc3-40a0-ae2b-cf4279cf03af",
   "metadata": {},
   "outputs": [
    {
     "data": {
      "text/plain": [
       "3.0"
      ]
     },
     "execution_count": 7,
     "metadata": {},
     "output_type": "execute_result"
    }
   ],
   "source": [
    "num1 = 15\n",
    "num2 = 5\n",
    "\n",
    "resultado = num1 / num2\n",
    "\n",
    "resultado"
   ]
  }
 ],
 "metadata": {
  "kernelspec": {
   "display_name": "Python 3 (ipykernel)",
   "language": "python",
   "name": "python3"
  },
  "language_info": {
   "codemirror_mode": {
    "name": "ipython",
    "version": 3
   },
   "file_extension": ".py",
   "mimetype": "text/x-python",
   "name": "python",
   "nbconvert_exporter": "python",
   "pygments_lexer": "ipython3",
   "version": "3.12.4"
  }
 },
 "nbformat": 4,
 "nbformat_minor": 5
}
