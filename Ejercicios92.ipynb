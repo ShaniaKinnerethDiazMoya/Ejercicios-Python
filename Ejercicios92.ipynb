{
 "cells": [
  {
   "cell_type": "markdown",
   "id": "6d19fdba-edb0-4d70-84fa-aa33535a3d0e",
   "metadata": {},
   "source": [
    "# Ejercicios 92"
   ]
  },
  {
   "cell_type": "code",
   "execution_count": null,
   "id": "8cc62534-6df6-44a7-ad60-c08323efc71e",
   "metadata": {},
   "outputs": [],
   "source": []
  }
 ],
 "metadata": {
  "kernelspec": {
   "display_name": "Python 3 (ipykernel)",
   "language": "python",
   "name": "python3"
  },
  "language_info": {
   "codemirror_mode": {
    "name": "ipython",
    "version": 3
   },
   "file_extension": ".py",
   "mimetype": "text/x-python",
   "name": "python",
   "nbconvert_exporter": "python",
   "pygments_lexer": "ipython3",
   "version": "3.12.4"
  }
 },
 "nbformat": 4,
 "nbformat_minor": 5
}
