{
 "cells": [
  {
   "cell_type": "markdown",
   "id": "d4a35311-395b-40bf-8bd8-9f9bf4d1765a",
   "metadata": {},
   "source": [
    "# Ejercicios 83"
   ]
  },
  {
   "cell_type": "markdown",
   "id": "e57e9871-0bef-44f1-bb7d-cee9a95970ff",
   "metadata": {},
   "source": [
    "### Calcular la longitud de una lista de palabras utilizando map"
   ]
  },
  {
   "cell_type": "code",
   "execution_count": 5,
   "id": "82f1514c-ba2e-4437-bf19-87113b8cf4fe",
   "metadata": {},
   "outputs": [
    {
     "name": "stdout",
     "output_type": "stream",
     "text": [
      "['gato', 'perro', 'jirafa']\n",
      "[4, 5, 6]\n"
     ]
    }
   ],
   "source": [
    "def longitud(palabra):\n",
    "    return len(palabra)\n",
    "\n",
    "palabras = [\"gato\",\"perro\",\"jirafa\"]\n",
    "\n",
    "longitudes = list(map(longitud, palabras))\n",
    "\n",
    "print(palabras)\n",
    "print(longitudes)"
   ]
  },
  {
   "cell_type": "code",
   "execution_count": null,
   "id": "2955cee5-c639-475d-9155-3ad9932a9984",
   "metadata": {},
   "outputs": [],
   "source": []
  }
 ],
 "metadata": {
  "kernelspec": {
   "display_name": "Python 3 (ipykernel)",
   "language": "python",
   "name": "python3"
  },
  "language_info": {
   "codemirror_mode": {
    "name": "ipython",
    "version": 3
   },
   "file_extension": ".py",
   "mimetype": "text/x-python",
   "name": "python",
   "nbconvert_exporter": "python",
   "pygments_lexer": "ipython3",
   "version": "3.12.4"
  }
 },
 "nbformat": 4,
 "nbformat_minor": 5
}
