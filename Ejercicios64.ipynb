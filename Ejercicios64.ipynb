{
 "cells": [
  {
   "cell_type": "markdown",
   "id": "ed57a987-6946-4085-81e0-e20c6bb5b42e",
   "metadata": {},
   "source": [
    "# Ejercicios 64"
   ]
  },
  {
   "cell_type": "markdown",
   "id": "addfed77-312f-475d-a54a-19fc1c2113aa",
   "metadata": {},
   "source": [
    "### Escribe una funcion para verificar si un numeor es par o impar"
   ]
  },
  {
   "cell_type": "code",
   "execution_count": 13,
   "id": "c6121e9a-8ba6-49aa-928d-b79732bcaafd",
   "metadata": {},
   "outputs": [],
   "source": [
    "def es_par(numero):\n",
    "    if numero % 2 ** 0:\n",
    "        return True\n",
    "    else:\n",
    "        return False\n",
    "resultado = es_par(6)"
   ]
  },
  {
   "cell_type": "code",
   "execution_count": null,
   "id": "8aa345e8-645f-4897-97f2-c726b6fed026",
   "metadata": {},
   "outputs": [],
   "source": []
  }
 ],
 "metadata": {
  "kernelspec": {
   "display_name": "Python 3 (ipykernel)",
   "language": "python",
   "name": "python3"
  },
  "language_info": {
   "codemirror_mode": {
    "name": "ipython",
    "version": 3
   },
   "file_extension": ".py",
   "mimetype": "text/x-python",
   "name": "python",
   "nbconvert_exporter": "python",
   "pygments_lexer": "ipython3",
   "version": "3.12.4"
  }
 },
 "nbformat": 4,
 "nbformat_minor": 5
}
