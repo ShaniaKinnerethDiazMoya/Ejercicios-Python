{
 "cells": [
  {
   "cell_type": "markdown",
   "id": "63d7c236-74f9-4ec6-bce8-058d3b761b8e",
   "metadata": {},
   "source": [
    "# Ejercicios 59"
   ]
  },
  {
   "cell_type": "markdown",
   "id": "a941f2e0-d2b5-46bd-a222-bd9c3769cb60",
   "metadata": {},
   "source": [
    "### Pedir al usuario un numero e imprimir la tabla de multiplicar del mismo"
   ]
  },
  {
   "cell_type": "code",
   "execution_count": null,
   "id": "aefda942-79bd-409b-a6bb-e7648ce98a6d",
   "metadata": {},
   "outputs": [],
   "source": [
    "numero = int(input(\"Escribe un numero\"))\n",
    "\n",
    "for i in range (1,11):\n",
    "    resultado = numero * i \n",
    "    print(f\"\")"
   ]
  }
 ],
 "metadata": {
  "kernelspec": {
   "display_name": "Python 3 (ipykernel)",
   "language": "python",
   "name": "python3"
  },
  "language_info": {
   "codemirror_mode": {
    "name": "ipython",
    "version": 3
   },
   "file_extension": ".py",
   "mimetype": "text/x-python",
   "name": "python",
   "nbconvert_exporter": "python",
   "pygments_lexer": "ipython3",
   "version": "3.12.4"
  }
 },
 "nbformat": 4,
 "nbformat_minor": 5
}
