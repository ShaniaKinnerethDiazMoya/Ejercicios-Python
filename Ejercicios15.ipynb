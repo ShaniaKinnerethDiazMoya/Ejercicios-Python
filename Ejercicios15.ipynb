{
 "cells": [
  {
   "cell_type": "markdown",
   "id": "eb2e234f-614c-4f67-bc88-e8f83dc7f33b",
   "metadata": {},
   "source": [
    "# Ejercicios 15"
   ]
  },
  {
   "cell_type": "markdown",
   "id": "db2a6406-f3cb-4ac5-9559-6f06468acaf3",
   "metadata": {},
   "source": [
    "### Ordena una lista de numeros de menor a mayor "
   ]
  },
  {
   "cell_type": "code",
   "execution_count": 5,
   "id": "9847bfc3-dd33-49ec-b3ae-c898900741cd",
   "metadata": {},
   "outputs": [
    {
     "data": {
      "text/plain": [
       "[1, 2, 5, 7, 9]"
      ]
     },
     "execution_count": 5,
     "metadata": {},
     "output_type": "execute_result"
    }
   ],
   "source": [
    "lista = [7, 2, 5, 1, 9]\n",
    "lista.sort()\n",
    "\n",
    "lista"
   ]
  },
  {
   "cell_type": "code",
   "execution_count": null,
   "id": "f0bcbbc9-8a04-4332-83a7-e0828685dba6",
   "metadata": {},
   "outputs": [],
   "source": []
  }
 ],
 "metadata": {
  "kernelspec": {
   "display_name": "Python 3 (ipykernel)",
   "language": "python",
   "name": "python3"
  },
  "language_info": {
   "codemirror_mode": {
    "name": "ipython",
    "version": 3
   },
   "file_extension": ".py",
   "mimetype": "text/x-python",
   "name": "python",
   "nbconvert_exporter": "python",
   "pygments_lexer": "ipython3",
   "version": "3.12.4"
  }
 },
 "nbformat": 4,
 "nbformat_minor": 5
}
