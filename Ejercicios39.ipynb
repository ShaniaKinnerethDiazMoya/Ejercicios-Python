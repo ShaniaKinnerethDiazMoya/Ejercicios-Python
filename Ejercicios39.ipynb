{
 "cells": [
  {
   "cell_type": "markdown",
   "id": "1924c530-c5e1-4a83-afc0-8a3536cfd378",
   "metadata": {},
   "source": [
    "# Ejercicios 39"
   ]
  },
  {
   "cell_type": "markdown",
   "id": "7822f880-ee30-4010-8eba-436ca25b9cce",
   "metadata": {},
   "source": [
    "### Verifica si la palabra ingresada es python"
   ]
  },
  {
   "cell_type": "code",
   "execution_count": 5,
   "id": "ed808219-7eb1-4b18-b075-93aa4c2e1532",
   "metadata": {},
   "outputs": [
    {
     "name": "stdin",
     "output_type": "stream",
     "text": [
      "Ingresa palabra hola\n"
     ]
    },
    {
     "name": "stdout",
     "output_type": "stream",
     "text": [
      "Error\n"
     ]
    }
   ],
   "source": [
    "palabra = input(\"Ingresa palabra\")\n",
    "\n",
    "if palabra.lower() == \"python\":\n",
    "    print('Exito')\n",
    "else:\n",
    "    print('Error')"
   ]
  },
  {
   "cell_type": "code",
   "execution_count": null,
   "id": "4e0a4b05-fc57-4b06-8c0a-956cf7c77648",
   "metadata": {},
   "outputs": [],
   "source": []
  }
 ],
 "metadata": {
  "kernelspec": {
   "display_name": "Python 3 (ipykernel)",
   "language": "python",
   "name": "python3"
  },
  "language_info": {
   "codemirror_mode": {
    "name": "ipython",
    "version": 3
   },
   "file_extension": ".py",
   "mimetype": "text/x-python",
   "name": "python",
   "nbconvert_exporter": "python",
   "pygments_lexer": "ipython3",
   "version": "3.12.4"
  }
 },
 "nbformat": 4,
 "nbformat_minor": 5
}
