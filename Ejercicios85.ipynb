{
 "cells": [
  {
   "cell_type": "markdown",
   "id": "3de6ed56-1aa0-4316-9d4d-2131fdee954d",
   "metadata": {},
   "source": [
    "# Ejercicios 85"
   ]
  },
  {
   "cell_type": "markdown",
   "id": "cebe948e-a56f-4056-8164-15b570f354b6",
   "metadata": {},
   "source": [
    "### Contar el numero de vocales en una lista de palabras utilizando map "
   ]
  },
  {
   "cell_type": "code",
   "execution_count": 8,
   "id": "86234ae2-7e75-41ea-9fbd-fe00ba9e0ed7",
   "metadata": {},
   "outputs": [
    {
     "name": "stdout",
     "output_type": "stream",
     "text": [
      "['Hola', 'mundo']\n",
      "[2, 2]\n"
     ]
    }
   ],
   "source": [
    "def contar(palabra):\n",
    "    return sum(1 for letra in palabra if letra.lower() in 'aeiou')\n",
    "\n",
    "palabras = ['Hola', 'mundo']\n",
    "\n",
    "conteos = list(map(contar, palabras))\n",
    "\n",
    "print (palabras)\n",
    "print (conteos)"
   ]
  },
  {
   "cell_type": "code",
   "execution_count": null,
   "id": "92a63fc0-a066-4f8a-8c73-e01ab4e2b0d5",
   "metadata": {},
   "outputs": [],
   "source": []
  }
 ],
 "metadata": {
  "kernelspec": {
   "display_name": "Python 3 (ipykernel)",
   "language": "python",
   "name": "python3"
  },
  "language_info": {
   "codemirror_mode": {
    "name": "ipython",
    "version": 3
   },
   "file_extension": ".py",
   "mimetype": "text/x-python",
   "name": "python",
   "nbconvert_exporter": "python",
   "pygments_lexer": "ipython3",
   "version": "3.12.4"
  }
 },
 "nbformat": 4,
 "nbformat_minor": 5
}
