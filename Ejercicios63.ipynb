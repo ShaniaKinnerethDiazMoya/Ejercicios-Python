{
 "cells": [
  {
   "cell_type": "markdown",
   "id": "9d03b4a3-f8cb-4641-8f96-2329bd6d5496",
   "metadata": {},
   "source": [
    "# Ejercicios 63"
   ]
  },
  {
   "cell_type": "markdown",
   "id": "8bb82f1e-effc-4e07-821a-366ec0d26ee7",
   "metadata": {},
   "source": [
    "### Escribe una funcion para imprimir un mensaje de salud"
   ]
  },
  {
   "cell_type": "code",
   "execution_count": 5,
   "id": "8e232ba9-e1c9-4cca-8668-dde882744576",
   "metadata": {},
   "outputs": [
    {
     "name": "stdout",
     "output_type": "stream",
     "text": [
      "Hola que tal autodidacta\n"
     ]
    }
   ],
   "source": [
    "def saludar(nombre):\n",
    "    print(\"Hola que tal\", nombre)\n",
    "saludar('autodidacta')"
   ]
  },
  {
   "cell_type": "code",
   "execution_count": null,
   "id": "3d8286dc-486c-4851-b348-50da356adc8b",
   "metadata": {},
   "outputs": [],
   "source": []
  }
 ],
 "metadata": {
  "kernelspec": {
   "display_name": "Python 3 (ipykernel)",
   "language": "python",
   "name": "python3"
  },
  "language_info": {
   "codemirror_mode": {
    "name": "ipython",
    "version": 3
   },
   "file_extension": ".py",
   "mimetype": "text/x-python",
   "name": "python",
   "nbconvert_exporter": "python",
   "pygments_lexer": "ipython3",
   "version": "3.12.4"
  }
 },
 "nbformat": 4,
 "nbformat_minor": 5
}
