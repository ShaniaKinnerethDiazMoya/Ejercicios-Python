{
 "cells": [
  {
   "cell_type": "markdown",
   "id": "828db09e-8895-46c6-b739-ab8215e62e44",
   "metadata": {},
   "source": [
    "# Ejercicios 11"
   ]
  },
  {
   "cell_type": "markdown",
   "id": "5fbcf43f-7d2e-4bba-a878-39ce700c488a",
   "metadata": {},
   "source": [
    "### Calcular el area de un rectangulo pide base y altura"
   ]
  },
  {
   "cell_type": "code",
   "execution_count": 5,
   "id": "cc827696-0428-43b8-b492-664796863f0c",
   "metadata": {},
   "outputs": [
    {
     "name": "stdin",
     "output_type": "stream",
     "text": [
      "Ingresa base 4\n",
      "Ingresa altura 3\n"
     ]
    },
    {
     "data": {
      "text/plain": [
       "12"
      ]
     },
     "execution_count": 5,
     "metadata": {},
     "output_type": "execute_result"
    }
   ],
   "source": [
    "base = int(input(\"Ingresa base\"))\n",
    "altura = int(input(\"Ingresa altura\"))\n",
    "\n",
    "area = altura * base\n",
    "\n",
    "area"
   ]
  },
  {
   "cell_type": "code",
   "execution_count": null,
   "id": "aa3fd79c-e65d-4e0a-8066-a44ed61a357b",
   "metadata": {},
   "outputs": [],
   "source": []
  }
 ],
 "metadata": {
  "kernelspec": {
   "display_name": "Python 3 (ipykernel)",
   "language": "python",
   "name": "python3"
  },
  "language_info": {
   "codemirror_mode": {
    "name": "ipython",
    "version": 3
   },
   "file_extension": ".py",
   "mimetype": "text/x-python",
   "name": "python",
   "nbconvert_exporter": "python",
   "pygments_lexer": "ipython3",
   "version": "3.12.4"
  }
 },
 "nbformat": 4,
 "nbformat_minor": 5
}
