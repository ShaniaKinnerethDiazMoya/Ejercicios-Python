{
 "cells": [
  {
   "cell_type": "markdown",
   "id": "f46555bd-0a33-4c8c-a815-0ffad20032f7",
   "metadata": {},
   "source": [
    "# Ejercicios 89"
   ]
  },
  {
   "cell_type": "markdown",
   "id": "82910e92-d9ee-49cf-bbce-e1bd1e74568b",
   "metadata": {},
   "source": [
    "### Comprobar si una palabra es palindromo utilizando lambda"
   ]
  },
  {
   "cell_type": "code",
   "execution_count": 3,
   "id": "cd07874d-f755-406a-88bf-e24a04962e93",
   "metadata": {},
   "outputs": [
    {
     "name": "stdout",
     "output_type": "stream",
     "text": [
      "True\n",
      "False\n"
     ]
    }
   ],
   "source": [
    "palindromo = lambda palabra: palabra == palabra[::-1]\n",
    "\n",
    "print(palindromo(\"radar\"))\n",
    "print(palindromo(\"python\"))"
   ]
  },
  {
   "cell_type": "code",
   "execution_count": null,
   "id": "9a6ff8a6-9377-48e9-a365-630e35e94a49",
   "metadata": {},
   "outputs": [],
   "source": []
  }
 ],
 "metadata": {
  "kernelspec": {
   "display_name": "Python 3 (ipykernel)",
   "language": "python",
   "name": "python3"
  },
  "language_info": {
   "codemirror_mode": {
    "name": "ipython",
    "version": 3
   },
   "file_extension": ".py",
   "mimetype": "text/x-python",
   "name": "python",
   "nbconvert_exporter": "python",
   "pygments_lexer": "ipython3",
   "version": "3.12.4"
  }
 },
 "nbformat": 4,
 "nbformat_minor": 5
}
