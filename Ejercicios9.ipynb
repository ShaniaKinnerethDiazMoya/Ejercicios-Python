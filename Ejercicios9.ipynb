{
 "cells": [
  {
   "cell_type": "markdown",
   "id": "284880f6-51d0-42cf-b314-fe6b7f39ff9b",
   "metadata": {},
   "source": [
    "# Ejercicios 9"
   ]
  },
  {
   "cell_type": "markdown",
   "id": "a21328c4-574e-4ff7-8681-b498e3aa4c9f",
   "metadata": {},
   "source": [
    "### Realiza la potencia de un numero"
   ]
  },
  {
   "cell_type": "code",
   "execution_count": 3,
   "id": "3e3427b8-edc2-4c87-9793-14ae847ab6d2",
   "metadata": {},
   "outputs": [
    {
     "data": {
      "text/plain": [
       "125"
      ]
     },
     "execution_count": 3,
     "metadata": {},
     "output_type": "execute_result"
    }
   ],
   "source": [
    "base = 5\n",
    "exponente = 3\n",
    "resultado = base ** exponente\n",
    "\n",
    "resultado"
   ]
  },
  {
   "cell_type": "code",
   "execution_count": null,
   "id": "526fea0d-e56c-4dd2-95f2-e8f5dceb3e56",
   "metadata": {},
   "outputs": [],
   "source": []
  }
 ],
 "metadata": {
  "kernelspec": {
   "display_name": "Python 3 (ipykernel)",
   "language": "python",
   "name": "python3"
  },
  "language_info": {
   "codemirror_mode": {
    "name": "ipython",
    "version": 3
   },
   "file_extension": ".py",
   "mimetype": "text/x-python",
   "name": "python",
   "nbconvert_exporter": "python",
   "pygments_lexer": "ipython3",
   "version": "3.12.4"
  }
 },
 "nbformat": 4,
 "nbformat_minor": 5
}
