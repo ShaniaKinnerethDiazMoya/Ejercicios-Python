{
 "cells": [
  {
   "cell_type": "markdown",
   "id": "534bfab9-baa0-4de8-9b08-776f6fdd36c5",
   "metadata": {},
   "source": [
    "# Ejercicios 13"
   ]
  },
  {
   "cell_type": "markdown",
   "id": "5ba7de77-b06a-4fd9-88c1-392d40c729d2",
   "metadata": {},
   "source": [
    "### Reemplaza un caracter en una cadena "
   ]
  },
  {
   "cell_type": "code",
   "execution_count": 3,
   "id": "65595b89-949c-4c68-b38e-9162612362ec",
   "metadata": {},
   "outputs": [
    {
     "data": {
      "text/plain": [
       "'pythxn'"
      ]
     },
     "execution_count": 3,
     "metadata": {},
     "output_type": "execute_result"
    }
   ],
   "source": [
    "cadena = \"python\"\n",
    "nueva_cadena = cadena.replace(\"o\", \"x\")\n",
    "nueva_cadena"
   ]
  },
  {
   "cell_type": "code",
   "execution_count": null,
   "id": "be4db553-cff8-4984-be4c-0177eefafe3e",
   "metadata": {},
   "outputs": [],
   "source": []
  }
 ],
 "metadata": {
  "kernelspec": {
   "display_name": "Python 3 (ipykernel)",
   "language": "python",
   "name": "python3"
  },
  "language_info": {
   "codemirror_mode": {
    "name": "ipython",
    "version": 3
   },
   "file_extension": ".py",
   "mimetype": "text/x-python",
   "name": "python",
   "nbconvert_exporter": "python",
   "pygments_lexer": "ipython3",
   "version": "3.12.4"
  }
 },
 "nbformat": 4,
 "nbformat_minor": 5
}
