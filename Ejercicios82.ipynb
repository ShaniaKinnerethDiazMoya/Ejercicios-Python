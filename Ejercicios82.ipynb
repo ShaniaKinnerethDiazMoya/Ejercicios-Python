{
 "cells": [
  {
   "cell_type": "markdown",
   "id": "a4a6e14e-caeb-42c0-9f7f-dff0d96ce490",
   "metadata": {},
   "source": [
    "# Ejercicios 82"
   ]
  },
  {
   "cell_type": "markdown",
   "id": "4be6c5d3-0ef4-4338-bbd5-906cd97b7351",
   "metadata": {},
   "source": [
    "### Convierte una lista de cadenas que sean numeros a enteros utilizando map "
   ]
  },
  {
   "cell_type": "code",
   "execution_count": 3,
   "id": "ed7d103a-ada4-431d-8eb6-6a78160f03b1",
   "metadata": {},
   "outputs": [
    {
     "name": "stdout",
     "output_type": "stream",
     "text": [
      "['1', '2', '3', '4']\n",
      "[1, 2, 3, 4]\n"
     ]
    }
   ],
   "source": [
    "def convertir_entero(cadena):\n",
    "    return int(cadena)\n",
    "\n",
    "cadenas = [\"1\",\"2\",\"3\",\"4\"]\n",
    "\n",
    "enteros = list(map(convertir_entero, cadenas))\n",
    "\n",
    "print(cadenas)\n",
    "print(enteros)"
   ]
  },
  {
   "cell_type": "code",
   "execution_count": null,
   "id": "6c6486e9-27f9-47d7-83b2-7ddf79a4b21a",
   "metadata": {},
   "outputs": [],
   "source": []
  }
 ],
 "metadata": {
  "kernelspec": {
   "display_name": "Python 3 (ipykernel)",
   "language": "python",
   "name": "python3"
  },
  "language_info": {
   "codemirror_mode": {
    "name": "ipython",
    "version": 3
   },
   "file_extension": ".py",
   "mimetype": "text/x-python",
   "name": "python",
   "nbconvert_exporter": "python",
   "pygments_lexer": "ipython3",
   "version": "3.12.4"
  }
 },
 "nbformat": 4,
 "nbformat_minor": 5
}
