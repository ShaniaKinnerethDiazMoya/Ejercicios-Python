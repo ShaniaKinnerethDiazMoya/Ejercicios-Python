{
 "cells": [
  {
   "cell_type": "markdown",
   "id": "f77ed799-647c-41a3-b7be-b2512e53ce28",
   "metadata": {},
   "source": [
    "# Ejercicios 70 "
   ]
  },
  {
   "cell_type": "markdown",
   "id": "b7362592-359c-4e1c-b037-7de508274c60",
   "metadata": {},
   "source": [
    "### Escribe una funcion para clasificar si una sustancia es acida, basica o neutra a partir de su pH"
   ]
  },
  {
   "cell_type": "code",
   "execution_count": 3,
   "id": "84d994b4-f57c-4c53-b5f3-ac930c83675f",
   "metadata": {},
   "outputs": [
    {
     "data": {
      "text/plain": [
       "'Neutra'"
      ]
     },
     "execution_count": 3,
     "metadata": {},
     "output_type": "execute_result"
    }
   ],
   "source": [
    "def sustancia(ph):\n",
    "    if ph < 7:\n",
    "        return \"Acida\"\n",
    "    elif ph > 7:\n",
    "        return \"Basica\"\n",
    "    else:\n",
    "        return \"Neutra\"\n",
    "\n",
    "resultado = sustancia(5)\n",
    "resultado"
   ]
  },
  {
   "cell_type": "code",
   "execution_count": null,
   "id": "2be608ff-92e5-4310-b831-bf3ec5dbefe2",
   "metadata": {},
   "outputs": [],
   "source": []
  }
 ],
 "metadata": {
  "kernelspec": {
   "display_name": "Python 3 (ipykernel)",
   "language": "python",
   "name": "python3"
  },
  "language_info": {
   "codemirror_mode": {
    "name": "ipython",
    "version": 3
   },
   "file_extension": ".py",
   "mimetype": "text/x-python",
   "name": "python",
   "nbconvert_exporter": "python",
   "pygments_lexer": "ipython3",
   "version": "3.12.4"
  }
 },
 "nbformat": 4,
 "nbformat_minor": 5
}
