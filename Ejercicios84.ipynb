{
 "cells": [
  {
   "cell_type": "markdown",
   "id": "fb309fe0-9c07-47ca-821b-6d26cfca9357",
   "metadata": {},
   "source": [
    "# Ejercicios 84"
   ]
  },
  {
   "cell_type": "markdown",
   "id": "46737770-db98-44ae-8646-dc4fe32cb437",
   "metadata": {},
   "source": [
    "### Obtener el cuadrado de la suma de dos listas de numeros utilizando map"
   ]
  },
  {
   "cell_type": "code",
   "execution_count": 3,
   "id": "233a61b1-cba4-4bab-984e-ee5a4afcbbb1",
   "metadata": {},
   "outputs": [
    {
     "name": "stdout",
     "output_type": "stream",
     "text": [
      "[1, 2, 3, 4]\n",
      "[5, 6, 7, 8]\n",
      "[36, 64, 100, 144]\n"
     ]
    }
   ],
   "source": [
    "def suma_cuadrado(a, b):\n",
    "    return (a + b) ** 2\n",
    "\n",
    "listas1 = [1,2,3,4]\n",
    "listas2 = [5,6,7,8]\n",
    "\n",
    "resultado = list(map(suma_cuadrado, listas1, listas2))\n",
    "\n",
    "print(listas1)\n",
    "print(listas2)\n",
    "\n",
    "\n",
    "print(resultado)"
   ]
  },
  {
   "cell_type": "code",
   "execution_count": null,
   "id": "b16220a1-6d18-4ad2-9f97-9f85fef1a805",
   "metadata": {},
   "outputs": [],
   "source": []
  }
 ],
 "metadata": {
  "kernelspec": {
   "display_name": "Python 3 (ipykernel)",
   "language": "python",
   "name": "python3"
  },
  "language_info": {
   "codemirror_mode": {
    "name": "ipython",
    "version": 3
   },
   "file_extension": ".py",
   "mimetype": "text/x-python",
   "name": "python",
   "nbconvert_exporter": "python",
   "pygments_lexer": "ipython3",
   "version": "3.12.4"
  }
 },
 "nbformat": 4,
 "nbformat_minor": 5
}
