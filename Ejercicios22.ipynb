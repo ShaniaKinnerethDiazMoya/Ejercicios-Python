{
 "cells": [
  {
   "cell_type": "markdown",
   "id": "849ef6fc-0e35-45ac-adc6-6df4eedcc7c1",
   "metadata": {},
   "source": [
    "# Ejercicios 22"
   ]
  },
  {
   "cell_type": "markdown",
   "id": "a25258ac-3870-465b-a828-7897ac7d5bbe",
   "metadata": {},
   "source": [
    "### Divide una cadena en una lista de subcadenas"
   ]
  },
  {
   "cell_type": "code",
   "execution_count": 3,
   "id": "caab1dad-4be7-4b3b-87f5-4afef987c5ac",
   "metadata": {},
   "outputs": [
    {
     "data": {
      "text/plain": [
       "['hola', 'que', 'tal']"
      ]
     },
     "execution_count": 3,
     "metadata": {},
     "output_type": "execute_result"
    }
   ],
   "source": [
    "cadena = 'hola que tal'\n",
    "division = cadena.split()\n",
    "\n",
    "division"
   ]
  },
  {
   "cell_type": "code",
   "execution_count": null,
   "id": "b8ce16c5-e3ff-4a19-a76a-d8c7b220366c",
   "metadata": {},
   "outputs": [],
   "source": []
  }
 ],
 "metadata": {
  "kernelspec": {
   "display_name": "Python 3 (ipykernel)",
   "language": "python",
   "name": "python3"
  },
  "language_info": {
   "codemirror_mode": {
    "name": "ipython",
    "version": 3
   },
   "file_extension": ".py",
   "mimetype": "text/x-python",
   "name": "python",
   "nbconvert_exporter": "python",
   "pygments_lexer": "ipython3",
   "version": "3.12.4"
  }
 },
 "nbformat": 4,
 "nbformat_minor": 5
}
