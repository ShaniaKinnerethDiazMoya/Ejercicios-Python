{
 "cells": [
  {
   "cell_type": "markdown",
   "id": "8c1742d1-c808-42a3-b7e3-e55bf5b68af4",
   "metadata": {},
   "source": [
    "# Ejercicios 7"
   ]
  },
  {
   "cell_type": "markdown",
   "id": "0877895d-5838-4d37-b40c-b8cb74279f83",
   "metadata": {},
   "source": [
    "### Calcular el promedio de una lista de numeros"
   ]
  },
  {
   "cell_type": "code",
   "execution_count": 3,
   "id": "6db64591-925c-4fa4-b5f6-401ba0367d14",
   "metadata": {},
   "outputs": [
    {
     "data": {
      "text/plain": [
       "5.0"
      ]
     },
     "execution_count": 3,
     "metadata": {},
     "output_type": "execute_result"
    }
   ],
   "source": [
    "numeros = [2, 4, 6, 8]\n",
    "promedio = sum(numeros) / len(numeros)\n",
    "\n",
    "promedio"
   ]
  },
  {
   "cell_type": "code",
   "execution_count": null,
   "id": "e196d55f-b2cc-4db0-b3e4-5f3a2e0fb5b5",
   "metadata": {},
   "outputs": [],
   "source": []
  }
 ],
 "metadata": {
  "kernelspec": {
   "display_name": "Python 3 (ipykernel)",
   "language": "python",
   "name": "python3"
  },
  "language_info": {
   "codemirror_mode": {
    "name": "ipython",
    "version": 3
   },
   "file_extension": ".py",
   "mimetype": "text/x-python",
   "name": "python",
   "nbconvert_exporter": "python",
   "pygments_lexer": "ipython3",
   "version": "3.12.4"
  }
 },
 "nbformat": 4,
 "nbformat_minor": 5
}
