{
 "cells": [
  {
   "cell_type": "markdown",
   "id": "847ef0b0-6e6a-4a9a-a2d1-32a3dad1b7b6",
   "metadata": {},
   "source": [
    "# Ejercicios 6"
   ]
  },
  {
   "cell_type": "markdown",
   "id": "366d4ae9-75fb-4aa3-b9e6-9a946041ada1",
   "metadata": {},
   "source": [
    "### Crear una cadena de texto y mostrar su logitud"
   ]
  },
  {
   "cell_type": "code",
   "execution_count": 9,
   "id": "058460c2-96ca-4b8e-88a2-967d0719e28e",
   "metadata": {},
   "outputs": [
    {
     "data": {
      "text/plain": [
       "10"
      ]
     },
     "execution_count": 9,
     "metadata": {},
     "output_type": "execute_result"
    }
   ],
   "source": [
    "cadena = 'Hola mundo'\n",
    "longitud = len(cadena)\n",
    "\n",
    "longitud"
   ]
  },
  {
   "cell_type": "code",
   "execution_count": null,
   "id": "d08ccadf-85e8-4eba-a8c6-c6485e55ae39",
   "metadata": {},
   "outputs": [],
   "source": []
  }
 ],
 "metadata": {
  "kernelspec": {
   "display_name": "Python 3 (ipykernel)",
   "language": "python",
   "name": "python3"
  },
  "language_info": {
   "codemirror_mode": {
    "name": "ipython",
    "version": 3
   },
   "file_extension": ".py",
   "mimetype": "text/x-python",
   "name": "python",
   "nbconvert_exporter": "python",
   "pygments_lexer": "ipython3",
   "version": "3.12.4"
  }
 },
 "nbformat": 4,
 "nbformat_minor": 5
}
