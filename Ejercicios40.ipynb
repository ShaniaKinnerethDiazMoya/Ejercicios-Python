{
 "cells": [
  {
   "cell_type": "markdown",
   "id": "11db91e1-f04d-4211-b3c8-92fba776e543",
   "metadata": {},
   "source": [
    "# Ejercicios 40"
   ]
  },
  {
   "cell_type": "markdown",
   "id": "ef0de219-19a8-495e-b127-0872595b6141",
   "metadata": {},
   "source": [
    "### Calcular IMC e nterpretarlo"
   ]
  },
  {
   "cell_type": "code",
   "execution_count": 5,
   "id": "9cef74ae-c1e7-4276-8412-e792bff9c525",
   "metadata": {},
   "outputs": [
    {
     "name": "stdout",
     "output_type": "stream",
     "text": [
      "31.22130394857668\n",
      "Obesidad grado I\n"
     ]
    }
   ],
   "source": [
    "peso = 85\n",
    "altura = 1.65\n",
    "imc = peso / (altura ** 2)\n",
    "print(imc)\n",
    "\n",
    "if imc < 18.5:\n",
    "    print('Bajo peso')\n",
    "elif imc < 25:\n",
    "    print('Peso normal')\n",
    "elif imc < 30:\n",
    "    print('Sobrepeso')\n",
    "elif imc < 35:\n",
    "    print('Obesidad grado I')\n",
    "elif imc < 40:\n",
    "    print('Obesidad grado II')\n",
    "else:\n",
    "    print('Obesidad grado III')\n",
    "\n",
    "\n",
    "\n",
    "    "
   ]
  },
  {
   "cell_type": "code",
   "execution_count": null,
   "id": "80959473-99d1-4e83-8416-c1402631a5bd",
   "metadata": {},
   "outputs": [],
   "source": []
  }
 ],
 "metadata": {
  "kernelspec": {
   "display_name": "Python 3 (ipykernel)",
   "language": "python",
   "name": "python3"
  },
  "language_info": {
   "codemirror_mode": {
    "name": "ipython",
    "version": 3
   },
   "file_extension": ".py",
   "mimetype": "text/x-python",
   "name": "python",
   "nbconvert_exporter": "python",
   "pygments_lexer": "ipython3",
   "version": "3.12.4"
  }
 },
 "nbformat": 4,
 "nbformat_minor": 5
}
