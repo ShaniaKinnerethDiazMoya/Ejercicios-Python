{
 "cells": [
  {
   "cell_type": "markdown",
   "id": "878a9dc3-bc82-43f7-ba12-400073b87ccb",
   "metadata": {},
   "source": [
    "# Ejercicios 49"
   ]
  },
  {
   "cell_type": "markdown",
   "id": "473ed8c3-55ff-463a-853c-039618c0560a",
   "metadata": {},
   "source": [
    "### Simular un lanzamiento de dado hasta obtener un 6"
   ]
  },
  {
   "cell_type": "code",
   "execution_count": null,
   "id": "6d7c069f-f804-4376-a8be-73a541ad2e42",
   "metadata": {},
   "outputs": [],
   "source": [
    "import random\n",
    "numero = 0\n",
    "while numero != 6:\n",
    "    numero = random.randint(1, 6)\n",
    "    print(f\"Has sacado un { numero }\")"
   ]
  }
 ],
 "metadata": {
  "kernelspec": {
   "display_name": "Python 3 (ipykernel)",
   "language": "python",
   "name": "python3"
  },
  "language_info": {
   "codemirror_mode": {
    "name": "ipython",
    "version": 3
   },
   "file_extension": ".py",
   "mimetype": "text/x-python",
   "name": "python",
   "nbconvert_exporter": "python",
   "pygments_lexer": "ipython3",
   "version": "3.12.4"
  }
 },
 "nbformat": 4,
 "nbformat_minor": 5
}
