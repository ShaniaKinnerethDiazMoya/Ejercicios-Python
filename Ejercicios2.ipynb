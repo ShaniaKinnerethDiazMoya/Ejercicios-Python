{
 "cells": [
  {
   "cell_type": "markdown",
   "id": "b89d9ca8-eda0-4b58-a348-df59cd5e9bca",
   "metadata": {},
   "source": [
    "# Ejercicios 2"
   ]
  },
  {
   "cell_type": "markdown",
   "id": "386d52fd-423c-447a-a100-097adfb92196",
   "metadata": {},
   "source": [
    "### Calcula el area de un circulo con un radio dado"
   ]
  },
  {
   "cell_type": "code",
   "execution_count": 9,
   "id": "542cb121-0900-49d7-b919-7c903e1887d7",
   "metadata": {},
   "outputs": [
    {
     "data": {
      "text/plain": [
       "28.274333882308138"
      ]
     },
     "execution_count": 9,
     "metadata": {},
     "output_type": "execute_result"
    }
   ],
   "source": [
    "import math \n",
    "\n",
    "radio = 3\n",
    "area = math.pi * radio ** 2 # math trae pi integrado y los asteriscos son para el cuadrado en la operacion\n",
    "area"
   ]
  },
  {
   "cell_type": "code",
   "execution_count": null,
   "id": "c3c1077f-3c02-4d6b-bb26-a33b8659d364",
   "metadata": {},
   "outputs": [],
   "source": []
  }
 ],
 "metadata": {
  "kernelspec": {
   "display_name": "Python 3 (ipykernel)",
   "language": "python",
   "name": "python3"
  },
  "language_info": {
   "codemirror_mode": {
    "name": "ipython",
    "version": 3
   },
   "file_extension": ".py",
   "mimetype": "text/x-python",
   "name": "python",
   "nbconvert_exporter": "python",
   "pygments_lexer": "ipython3",
   "version": "3.12.4"
  }
 },
 "nbformat": 4,
 "nbformat_minor": 5
}
