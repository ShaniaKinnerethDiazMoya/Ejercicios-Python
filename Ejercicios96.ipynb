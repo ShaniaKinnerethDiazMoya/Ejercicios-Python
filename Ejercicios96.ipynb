{
 "cells": [
  {
   "cell_type": "markdown",
   "id": "8e1af38b-dc24-4a85-9e24-020848ffff48",
   "metadata": {},
   "source": [
    "# Ejercicios 96"
   ]
  },
  {
   "cell_type": "code",
   "execution_count": null,
   "id": "ffe42c4a-2010-43b1-8fdc-39894a70f931",
   "metadata": {},
   "outputs": [],
   "source": []
  }
 ],
 "metadata": {
  "kernelspec": {
   "display_name": "Python 3 (ipykernel)",
   "language": "python",
   "name": "python3"
  },
  "language_info": {
   "codemirror_mode": {
    "name": "ipython",
    "version": 3
   },
   "file_extension": ".py",
   "mimetype": "text/x-python",
   "name": "python",
   "nbconvert_exporter": "python",
   "pygments_lexer": "ipython3",
   "version": "3.12.4"
  }
 },
 "nbformat": 4,
 "nbformat_minor": 5
}
