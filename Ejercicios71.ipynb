{
 "cells": [
  {
   "cell_type": "markdown",
   "id": "85d3c550-7d77-47ef-901e-6edb6b1c0fdf",
   "metadata": {},
   "source": [
    "# Ejercicios 71"
   ]
  },
  {
   "cell_type": "markdown",
   "id": "ec1ba462-8d76-40e6-a5eb-7897d60958a9",
   "metadata": {},
   "source": [
    "### Crea una clase llamada rectangulo"
   ]
  },
  {
   "cell_type": "code",
   "execution_count": 2,
   "id": "1f372948-b5d2-4566-bcdd-036fd82a0308",
   "metadata": {},
   "outputs": [
    {
     "name": "stdout",
     "output_type": "stream",
     "text": [
      "Area: 15\n",
      "Perimetro: 16\n"
     ]
    }
   ],
   "source": [
    "class Rectangulo:\n",
    "    def __init__(self, base, altura):\n",
    "        self.base = base\n",
    "        self.altura = altura\n",
    "\n",
    "    def calcular_area(self):\n",
    "        return self.base * self.altura\n",
    "\n",
    "    def calcular_perimetro(self):\n",
    "        return 2 * (self.base + self.altura)\n",
    "\n",
    "rec1 = Rectangulo(5, 3)\n",
    "\n",
    "print(f\"Area: {rec1.calcular_area()}\")\n",
    "print(f\"Perimetro: {rec1.calcular_perimetro()}\")"
   ]
  },
  {
   "cell_type": "code",
   "execution_count": null,
   "id": "195a2138-5f43-4ca5-b042-562ab31f1154",
   "metadata": {},
   "outputs": [],
   "source": []
  }
 ],
 "metadata": {
  "kernelspec": {
   "display_name": "Python 3 (ipykernel)",
   "language": "python",
   "name": "python3"
  },
  "language_info": {
   "codemirror_mode": {
    "name": "ipython",
    "version": 3
   },
   "file_extension": ".py",
   "mimetype": "text/x-python",
   "name": "python",
   "nbconvert_exporter": "python",
   "pygments_lexer": "ipython3",
   "version": "3.12.4"
  }
 },
 "nbformat": 4,
 "nbformat_minor": 5
}
