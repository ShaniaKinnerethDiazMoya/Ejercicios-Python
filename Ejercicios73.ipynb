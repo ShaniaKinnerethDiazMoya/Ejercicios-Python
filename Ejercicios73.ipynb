{
 "cells": [
  {
   "cell_type": "markdown",
   "id": "4dc88c8a-b2df-49af-b106-324163ec7c4c",
   "metadata": {},
   "source": [
    "# Ejercicios 73"
   ]
  },
  {
   "cell_type": "markdown",
   "id": "88e5df49-ede5-48be-9a13-ec4632079f3a",
   "metadata": {},
   "source": [
    "### Crea una clase libro "
   ]
  },
  {
   "cell_type": "code",
   "execution_count": 6,
   "id": "04376771-55ad-43cb-b176-6dbd1874e5d8",
   "metadata": {},
   "outputs": [
    {
     "name": "stdout",
     "output_type": "stream",
     "text": [
      "{'titulo': 'Cien años de soledad', 'autor': 'Gabriel Garcia Marquez', 'editorial': 'Changos', 'anio_publicacion': '100'}\n"
     ]
    }
   ],
   "source": [
    "class Libro:\n",
    "\n",
    "    def __init__(self,\n",
    "                 titulo,\n",
    "                 autor,\n",
    "                 editorial,\n",
    "                 anio_publicacion):\n",
    "        self.titulo = titulo\n",
    "        self.autor = autor\n",
    "        self.editorial = editorial\n",
    "        self.anio_publicacion = anio_publicacion\n",
    "\n",
    "mi_libro = Libro(\n",
    "    'Cien años de soledad',\n",
    "    'Gabriel Garcia Marquez',\n",
    "    'Changos',\n",
    "    '100'\n",
    ")\n",
    "\n",
    "print(mi_libro.__dict__)    "
   ]
  },
  {
   "cell_type": "code",
   "execution_count": null,
   "id": "cd540545-5b93-4ab3-9663-cd0bb3265483",
   "metadata": {},
   "outputs": [],
   "source": []
  }
 ],
 "metadata": {
  "kernelspec": {
   "display_name": "Python 3 (ipykernel)",
   "language": "python",
   "name": "python3"
  },
  "language_info": {
   "codemirror_mode": {
    "name": "ipython",
    "version": 3
   },
   "file_extension": ".py",
   "mimetype": "text/x-python",
   "name": "python",
   "nbconvert_exporter": "python",
   "pygments_lexer": "ipython3",
   "version": "3.12.4"
  }
 },
 "nbformat": 4,
 "nbformat_minor": 5
}
