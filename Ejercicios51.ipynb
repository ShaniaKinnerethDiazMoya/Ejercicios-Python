{
 "cells": [
  {
   "cell_type": "markdown",
   "id": "fd62cbe1-09ad-4177-b83d-1e5bd057a6b9",
   "metadata": {},
   "source": [
    "# Ejercicios 51"
   ]
  },
  {
   "cell_type": "markdown",
   "id": "52ae063d-f4d8-49f8-8e5e-d40c56ee4696",
   "metadata": {},
   "source": [
    "### Imprimir los numeros de 1 al 5 con for"
   ]
  },
  {
   "cell_type": "code",
   "execution_count": 3,
   "id": "bb0adae2-51ba-480b-b91b-9b76b3c39125",
   "metadata": {},
   "outputs": [
    {
     "name": "stdout",
     "output_type": "stream",
     "text": [
      "1\n",
      "2\n",
      "3\n",
      "4\n",
      "5\n"
     ]
    }
   ],
   "source": [
    "for i in range(1, 6):\n",
    "    print(i)"
   ]
  },
  {
   "cell_type": "code",
   "execution_count": null,
   "id": "dd15dbd6-1c5a-4d04-98c1-5ee2ce1d8728",
   "metadata": {},
   "outputs": [],
   "source": []
  }
 ],
 "metadata": {
  "kernelspec": {
   "display_name": "Python 3 (ipykernel)",
   "language": "python",
   "name": "python3"
  },
  "language_info": {
   "codemirror_mode": {
    "name": "ipython",
    "version": 3
   },
   "file_extension": ".py",
   "mimetype": "text/x-python",
   "name": "python",
   "nbconvert_exporter": "python",
   "pygments_lexer": "ipython3",
   "version": "3.12.4"
  }
 },
 "nbformat": 4,
 "nbformat_minor": 5
}
