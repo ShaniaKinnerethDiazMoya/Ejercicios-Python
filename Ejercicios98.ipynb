{
 "cells": [
  {
   "cell_type": "markdown",
   "id": "864571c2-f6ff-489e-92e1-9841a4d79b2a",
   "metadata": {},
   "source": [
    "# Ejercicios 98"
   ]
  },
  {
   "cell_type": "code",
   "execution_count": null,
   "id": "3be1632e-23b6-4656-8430-29816eb7fcef",
   "metadata": {},
   "outputs": [],
   "source": []
  }
 ],
 "metadata": {
  "kernelspec": {
   "display_name": "Python 3 (ipykernel)",
   "language": "python",
   "name": "python3"
  },
  "language_info": {
   "codemirror_mode": {
    "name": "ipython",
    "version": 3
   },
   "file_extension": ".py",
   "mimetype": "text/x-python",
   "name": "python",
   "nbconvert_exporter": "python",
   "pygments_lexer": "ipython3",
   "version": "3.12.4"
  }
 },
 "nbformat": 4,
 "nbformat_minor": 5
}
