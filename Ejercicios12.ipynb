{
 "cells": [
  {
   "cell_type": "markdown",
   "id": "35cb480a-599c-4bef-b04a-f336e132bdca",
   "metadata": {},
   "source": [
    "# Ejercicios 12"
   ]
  },
  {
   "cell_type": "markdown",
   "id": "7498f4fa-5796-41af-ac52-ac347463ca2c",
   "metadata": {},
   "source": [
    "### Convierte un numero entero en cadena "
   ]
  },
  {
   "cell_type": "code",
   "execution_count": 3,
   "id": "69aa8dd2-e0a0-4af9-81e3-398ed60f9118",
   "metadata": {},
   "outputs": [
    {
     "name": "stdout",
     "output_type": "stream",
     "text": [
      "<class 'int'>\n",
      "<class 'str'>\n"
     ]
    }
   ],
   "source": [
    "numero = 40\n",
    "print(type(numero))\n",
    "cadena = str(numero)\n",
    "print(type(cadena))"
   ]
  },
  {
   "cell_type": "code",
   "execution_count": null,
   "id": "cec6deae-2d26-4955-a094-5f08b3944846",
   "metadata": {},
   "outputs": [],
   "source": []
  }
 ],
 "metadata": {
  "kernelspec": {
   "display_name": "Python 3 (ipykernel)",
   "language": "python",
   "name": "python3"
  },
  "language_info": {
   "codemirror_mode": {
    "name": "ipython",
    "version": 3
   },
   "file_extension": ".py",
   "mimetype": "text/x-python",
   "name": "python",
   "nbconvert_exporter": "python",
   "pygments_lexer": "ipython3",
   "version": "3.12.4"
  }
 },
 "nbformat": 4,
 "nbformat_minor": 5
}
