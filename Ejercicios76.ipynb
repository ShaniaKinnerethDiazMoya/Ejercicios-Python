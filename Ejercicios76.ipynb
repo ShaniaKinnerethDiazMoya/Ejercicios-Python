{
 "cells": [
  {
   "cell_type": "markdown",
   "id": "cf8d3cc4-9192-4fb2-9d55-5fdd5a1fdfcd",
   "metadata": {},
   "source": [
    "# Ejercicios 76"
   ]
  },
  {
   "cell_type": "markdown",
   "id": "f0d795a8-af05-4596-a5bf-5d77a03fa6b7",
   "metadata": {},
   "source": [
    "### Crear una clase animal"
   ]
  },
  {
   "cell_type": "code",
   "execution_count": 5,
   "id": "d2aa936d-af4c-4e46-ae2b-4cc8f4c22427",
   "metadata": {},
   "outputs": [
    {
     "ename": "TypeError",
     "evalue": "Animal() takes no arguments",
     "output_type": "error",
     "traceback": [
      "\u001b[0;31m---------------------------------------------------------------------------\u001b[0m",
      "\u001b[0;31mTypeError\u001b[0m                                 Traceback (most recent call last)",
      "Cell \u001b[0;32mIn[5], line 15\u001b[0m\n\u001b[1;32m     12\u001b[0m         \u001b[38;5;28;01melse\u001b[39;00m:\n\u001b[1;32m     13\u001b[0m             \u001b[38;5;28mprint\u001b[39m(\u001b[38;5;124m'\u001b[39m\u001b[38;5;124m.....\u001b[39m\u001b[38;5;124m'\u001b[39m)\n\u001b[0;32m---> 15\u001b[0m perro \u001b[38;5;241m=\u001b[39m Animal(\u001b[38;5;124m'\u001b[39m\u001b[38;5;124mperro\u001b[39m\u001b[38;5;124m'\u001b[39m, \u001b[38;5;124m'\u001b[39m\u001b[38;5;124mSolovino\u001b[39m\u001b[38;5;124m'\u001b[39m)\n\u001b[1;32m     16\u001b[0m gato \u001b[38;5;241m=\u001b[39m Animal(\u001b[38;5;124m'\u001b[39m\u001b[38;5;124mgato\u001b[39m\u001b[38;5;124m'\u001b[39m, \u001b[38;5;124m'\u001b[39m\u001b[38;5;124mMIchi\u001b[39m\u001b[38;5;124m'\u001b[39m)\n\u001b[1;32m     18\u001b[0m perro\u001b[38;5;241m.\u001b[39mhablar()\n",
      "\u001b[0;31mTypeError\u001b[0m: Animal() takes no arguments"
     ]
    }
   ],
   "source": [
    "class Animal:\n",
    "    \n",
    "    def __init___(self, especie, nombre):\n",
    "        self.especie = especie\n",
    "        self.nombre = nombre\n",
    "\n",
    "    def hablar(self):\n",
    "        if self.especie == 'perro':\n",
    "            print('Guau')\n",
    "        elif self.especie == 'gato':\n",
    "            print('miau')\n",
    "        else:\n",
    "            print('.....')\n",
    "\n",
    "perro = Animal('perro', 'Solovino')\n",
    "gato = Animal('gato', 'MIchi')\n",
    "\n",
    "perro.hablar()\n",
    "gato.hablar()"
   ]
  },
  {
   "cell_type": "code",
   "execution_count": null,
   "id": "3eba5fcc-4e19-4510-a282-e9b142d237fd",
   "metadata": {},
   "outputs": [],
   "source": []
  }
 ],
 "metadata": {
  "kernelspec": {
   "display_name": "Python 3 (ipykernel)",
   "language": "python",
   "name": "python3"
  },
  "language_info": {
   "codemirror_mode": {
    "name": "ipython",
    "version": 3
   },
   "file_extension": ".py",
   "mimetype": "text/x-python",
   "name": "python",
   "nbconvert_exporter": "python",
   "pygments_lexer": "ipython3",
   "version": "3.12.4"
  }
 },
 "nbformat": 4,
 "nbformat_minor": 5
}
