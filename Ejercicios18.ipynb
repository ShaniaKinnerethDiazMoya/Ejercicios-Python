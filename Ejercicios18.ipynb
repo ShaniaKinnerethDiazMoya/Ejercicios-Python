{
 "cells": [
  {
   "cell_type": "markdown",
   "id": "ff9086c2-ff58-40ca-bc24-e7f1277679c7",
   "metadata": {},
   "source": [
    "# Ejercicios 18"
   ]
  },
  {
   "cell_type": "markdown",
   "id": "69035abb-7536-4ef3-ac2d-5d87cdeae33b",
   "metadata": {},
   "source": [
    "### Convierte un numero decimal a entero"
   ]
  },
  {
   "cell_type": "code",
   "execution_count": 3,
   "id": "1c27a769-0c9c-4ca2-b9ae-dde06d093965",
   "metadata": {},
   "outputs": [
    {
     "data": {
      "text/plain": [
       "8"
      ]
     },
     "execution_count": 3,
     "metadata": {},
     "output_type": "execute_result"
    }
   ],
   "source": [
    "decimal = 8.55\n",
    "entero = int(decimal)\n",
    "entero"
   ]
  },
  {
   "cell_type": "code",
   "execution_count": null,
   "id": "dd4c7a29-70ad-4c96-8a36-b418479889b1",
   "metadata": {},
   "outputs": [],
   "source": []
  }
 ],
 "metadata": {
  "kernelspec": {
   "display_name": "Python 3 (ipykernel)",
   "language": "python",
   "name": "python3"
  },
  "language_info": {
   "codemirror_mode": {
    "name": "ipython",
    "version": 3
   },
   "file_extension": ".py",
   "mimetype": "text/x-python",
   "name": "python",
   "nbconvert_exporter": "python",
   "pygments_lexer": "ipython3",
   "version": "3.12.4"
  }
 },
 "nbformat": 4,
 "nbformat_minor": 5
}
