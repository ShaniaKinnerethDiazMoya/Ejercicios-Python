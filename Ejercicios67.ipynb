{
 "cells": [
  {
   "cell_type": "markdown",
   "id": "bc3caea0-08c5-45f1-ac74-1bde68c09d9f",
   "metadata": {},
   "source": [
    "# Ejercicios 67"
   ]
  },
  {
   "cell_type": "markdown",
   "id": "57a58342-1d50-47ff-846d-bd501dbaa58e",
   "metadata": {},
   "source": [
    "### Escribe una  funcion para calcular el volumen de un cilindro"
   ]
  },
  {
   "cell_type": "code",
   "execution_count": 3,
   "id": "4a7b58a4-b684-4ca5-927b-7f283eede986",
   "metadata": {},
   "outputs": [
    {
     "data": {
      "text/plain": [
       "141.3716694115407"
      ]
     },
     "execution_count": 3,
     "metadata": {},
     "output_type": "execute_result"
    }
   ],
   "source": [
    "import math\n",
    "\n",
    "def volumen_cilindro(radio, altura):\n",
    "    return math.pi * radio ** 2 * altura\n",
    "\n",
    "resultado = volumen_cilindro(3,5)\n",
    "resultado"
   ]
  },
  {
   "cell_type": "code",
   "execution_count": null,
   "id": "1ef6690d-54a7-4620-97b5-c7912f63f0b5",
   "metadata": {},
   "outputs": [],
   "source": []
  }
 ],
 "metadata": {
  "kernelspec": {
   "display_name": "Python 3 (ipykernel)",
   "language": "python",
   "name": "python3"
  },
  "language_info": {
   "codemirror_mode": {
    "name": "ipython",
    "version": 3
   },
   "file_extension": ".py",
   "mimetype": "text/x-python",
   "name": "python",
   "nbconvert_exporter": "python",
   "pygments_lexer": "ipython3",
   "version": "3.12.4"
  }
 },
 "nbformat": 4,
 "nbformat_minor": 5
}
