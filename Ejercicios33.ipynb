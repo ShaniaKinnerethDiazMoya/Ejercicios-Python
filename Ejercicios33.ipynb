{
 "cells": [
  {
   "cell_type": "markdown",
   "id": "4e536934-d270-46b3-8937-8b08a5d03ef9",
   "metadata": {},
   "source": [
    "# Ejercicios 33"
   ]
  },
  {
   "cell_type": "markdown",
   "id": "7f42832d-0389-46a6-819f-7599187ea934",
   "metadata": {},
   "source": [
    "### Determina si un año es bisiesto\n",
    "### Regla de negocio: divisible por 4 y 400 y no en 100"
   ]
  },
  {
   "cell_type": "code",
   "execution_count": 4,
   "id": "8738c3e3-31d7-4df3-8e8a-23d81e34bab8",
   "metadata": {},
   "outputs": [
    {
     "name": "stdout",
     "output_type": "stream",
     "text": [
      "Es año bisiesto\n"
     ]
    }
   ],
   "source": [
    "anio = 2024\n",
    "\n",
    "if (anio % 4 == 0 and anio % 100 != 0) or (anio % 400 == 0):\n",
    "    print('Es año bisiesto')\n",
    "else: \n",
    "    print('No es bisiesto')"
   ]
  },
  {
   "cell_type": "code",
   "execution_count": null,
   "id": "1de80f3d-3047-42a9-9ff7-48695c6e5434",
   "metadata": {},
   "outputs": [],
   "source": []
  }
 ],
 "metadata": {
  "kernelspec": {
   "display_name": "Python 3 (ipykernel)",
   "language": "python",
   "name": "python3"
  },
  "language_info": {
   "codemirror_mode": {
    "name": "ipython",
    "version": 3
   },
   "file_extension": ".py",
   "mimetype": "text/x-python",
   "name": "python",
   "nbconvert_exporter": "python",
   "pygments_lexer": "ipython3",
   "version": "3.12.4"
  }
 },
 "nbformat": 4,
 "nbformat_minor": 5
}
