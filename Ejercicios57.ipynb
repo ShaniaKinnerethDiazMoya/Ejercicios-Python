{
 "cells": [
  {
   "cell_type": "markdown",
   "id": "6400f734-d7bc-43b5-81c9-76f463ffbf06",
   "metadata": {},
   "source": [
    "# Ejercicios 57"
   ]
  },
  {
   "cell_type": "markdown",
   "id": "ef758b5b-5599-47a3-a0b3-bdbed853dd8a",
   "metadata": {},
   "source": [
    "### imprimir los numeros del 5 al 1 de forma descendente"
   ]
  },
  {
   "cell_type": "code",
   "execution_count": 3,
   "id": "28266174-3666-43c1-a49f-c73f59ff6cc0",
   "metadata": {},
   "outputs": [
    {
     "name": "stdout",
     "output_type": "stream",
     "text": [
      "5\n",
      "4\n",
      "3\n",
      "2\n",
      "1\n"
     ]
    }
   ],
   "source": [
    "for i in range (5, 0, -1):\n",
    "    print(i)"
   ]
  },
  {
   "cell_type": "code",
   "execution_count": null,
   "id": "5495a630-df0e-45da-8b66-760e44b3a680",
   "metadata": {},
   "outputs": [],
   "source": []
  }
 ],
 "metadata": {
  "kernelspec": {
   "display_name": "Python 3 (ipykernel)",
   "language": "python",
   "name": "python3"
  },
  "language_info": {
   "codemirror_mode": {
    "name": "ipython",
    "version": 3
   },
   "file_extension": ".py",
   "mimetype": "text/x-python",
   "name": "python",
   "nbconvert_exporter": "python",
   "pygments_lexer": "ipython3",
   "version": "3.12.4"
  }
 },
 "nbformat": 4,
 "nbformat_minor": 5
}
