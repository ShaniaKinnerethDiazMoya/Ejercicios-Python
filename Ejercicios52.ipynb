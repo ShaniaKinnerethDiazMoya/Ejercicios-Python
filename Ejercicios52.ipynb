{
 "cells": [
  {
   "cell_type": "markdown",
   "id": "fdf87dac-4602-48be-9fcd-d008bde2be5b",
   "metadata": {},
   "source": [
    "# Ejercicios 52"
   ]
  },
  {
   "cell_type": "markdown",
   "id": "886b969d-fd4a-4552-b6a6-f6a445f64fa3",
   "metadata": {},
   "source": [
    "### Sumar los numeros del 1 al 10 con for"
   ]
  },
  {
   "cell_type": "code",
   "execution_count": 19,
   "id": "2796297e-9a94-4630-aba3-84021afb0cca",
   "metadata": {},
   "outputs": [
    {
     "data": {
      "text/plain": [
       "55"
      ]
     },
     "execution_count": 19,
     "metadata": {},
     "output_type": "execute_result"
    }
   ],
   "source": [
    "suma = 0\n",
    "for i in range(1, 11):\n",
    "    suma = suma + i\n",
    "suma"
   ]
  }
 ],
 "metadata": {
  "kernelspec": {
   "display_name": "Python 3 (ipykernel)",
   "language": "python",
   "name": "python3"
  },
  "language_info": {
   "codemirror_mode": {
    "name": "ipython",
    "version": 3
   },
   "file_extension": ".py",
   "mimetype": "text/x-python",
   "name": "python",
   "nbconvert_exporter": "python",
   "pygments_lexer": "ipython3",
   "version": "3.12.4"
  }
 },
 "nbformat": 4,
 "nbformat_minor": 5
}
