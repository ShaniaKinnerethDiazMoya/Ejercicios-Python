{
 "cells": [
  {
   "cell_type": "markdown",
   "id": "bf8244a9-3ac5-4656-8496-0dd4d6b72afe",
   "metadata": {},
   "source": [
    "# Ejercicios 47"
   ]
  },
  {
   "cell_type": "markdown",
   "id": "0a604bc4-7c9f-4361-b49f-0e07d75e3c22",
   "metadata": {},
   "source": [
    "### Hacer un menu de opciones que incluya la opcion de salir del programa"
   ]
  },
  {
   "cell_type": "code",
   "execution_count": 3,
   "id": "4ea2c470-cad5-4a7f-a2f0-d5708e6c9cc9",
   "metadata": {},
   "outputs": [
    {
     "name": "stdout",
     "output_type": "stream",
     "text": [
      "1.- Sumar\n",
      "2.- Restar\n",
      "3.- Salir\n"
     ]
    },
    {
     "name": "stdin",
     "output_type": "stream",
     "text": [
      "Escribe tu opcion 2\n"
     ]
    },
    {
     "name": "stdout",
     "output_type": "stream",
     "text": [
      "usted esta restando\n",
      "1.- Sumar\n",
      "2.- Restar\n",
      "3.- Salir\n"
     ]
    },
    {
     "name": "stdin",
     "output_type": "stream",
     "text": [
      "Escribe tu opcion 1\n"
     ]
    },
    {
     "name": "stdout",
     "output_type": "stream",
     "text": [
      "usted esta sumando\n",
      "1.- Sumar\n",
      "2.- Restar\n",
      "3.- Salir\n"
     ]
    },
    {
     "name": "stdin",
     "output_type": "stream",
     "text": [
      "Escribe tu opcion 3\n"
     ]
    },
    {
     "name": "stdout",
     "output_type": "stream",
     "text": [
      "Vuelva pronto\n"
     ]
    }
   ],
   "source": [
    "while True:\n",
    "    print(\"1.- Sumar\")\n",
    "    print(\"2.- Restar\")\n",
    "    print(\"3.- Salir\")\n",
    "\n",
    "    opcion = int(input(\"Escribe tu opcion\"))\n",
    "    \n",
    "    if opcion == 1:\n",
    "        print(\"usted esta sumando\")\n",
    "    elif opcion == 2:\n",
    "        print(\"usted esta restando\")\n",
    "    elif opcion == 3:\n",
    "        break\n",
    "    else:\n",
    "        print(\"opcion no valida\")\n",
    "\n",
    "print(\"Vuelva pronto\")"
   ]
  },
  {
   "cell_type": "code",
   "execution_count": null,
   "id": "3a539a4f-6775-48be-a357-015664b4ede4",
   "metadata": {},
   "outputs": [],
   "source": []
  }
 ],
 "metadata": {
  "kernelspec": {
   "display_name": "Python 3 (ipykernel)",
   "language": "python",
   "name": "python3"
  },
  "language_info": {
   "codemirror_mode": {
    "name": "ipython",
    "version": 3
   },
   "file_extension": ".py",
   "mimetype": "text/x-python",
   "name": "python",
   "nbconvert_exporter": "python",
   "pygments_lexer": "ipython3",
   "version": "3.12.4"
  }
 },
 "nbformat": 4,
 "nbformat_minor": 5
}
