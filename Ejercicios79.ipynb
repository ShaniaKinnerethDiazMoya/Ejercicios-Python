{
 "cells": [
  {
   "cell_type": "markdown",
   "id": "92316fb2-9fa6-4308-b9d1-87da2af166c0",
   "metadata": {},
   "source": [
    "# Ejercicios 79"
   ]
  },
  {
   "cell_type": "markdown",
   "id": "dc3c735e-3ddd-4a24-8a1e-5121f157d45c",
   "metadata": {},
   "source": [
    "### Representa una cuenta bancaria"
   ]
  },
  {
   "cell_type": "code",
   "execution_count": 7,
   "id": "a648a31a-2ea0-4cc0-9bde-acd25dd5c4fa",
   "metadata": {},
   "outputs": [
    {
     "ename": "TypeError",
     "evalue": "Cuenta() takes no arguments",
     "output_type": "error",
     "traceback": [
      "\u001b[0;31m---------------------------------------------------------------------------\u001b[0m",
      "\u001b[0;31mTypeError\u001b[0m                                 Traceback (most recent call last)",
      "Cell \u001b[0;32mIn[7], line 19\u001b[0m\n\u001b[1;32m     16\u001b[0m     \u001b[38;5;28;01mdef\u001b[39;00m \u001b[38;5;21mmostrar\u001b[39m(\u001b[38;5;28mself\u001b[39m):\n\u001b[1;32m     17\u001b[0m         \u001b[38;5;28mprint\u001b[39m(\u001b[38;5;28mself\u001b[39m\u001b[38;5;241m.\u001b[39m\u001b[38;5;18m__dict__\u001b[39m)\n\u001b[0;32m---> 19\u001b[0m cuenta1 \u001b[38;5;241m=\u001b[39m Cuenta(\u001b[38;5;124m'\u001b[39m\u001b[38;5;124mJose\u001b[39m\u001b[38;5;124m'\u001b[39m, \u001b[38;5;241m500\u001b[39m)\n\u001b[1;32m     20\u001b[0m cuenta1\u001b[38;5;241m.\u001b[39mmostrar()\n\u001b[1;32m     21\u001b[0m cuenta1\u001b[38;5;241m.\u001b[39mdepositar(\u001b[38;5;241m100\u001b[39m)\n",
      "\u001b[0;31mTypeError\u001b[0m: Cuenta() takes no arguments"
     ]
    }
   ],
   "source": [
    "class Cuenta:\n",
    "    \n",
    "    def __init___(self, titular, saldo):\n",
    "        self.titular = titular\n",
    "        self.saldo = saldo\n",
    "    \n",
    "    def retirar(self, cantidad):\n",
    "        self.saldo += cantidad\n",
    "        print(\"Se deposito: \", cantidad)\n",
    "\n",
    "\n",
    "    def retirar(self, cantidad):\n",
    "        self.saldo -= cantidad\n",
    "        print(\"Se retiro: \", cantidad)\n",
    "\n",
    "    def mostrar(self):\n",
    "        print(self.__dict__)\n",
    "\n",
    "cuenta1 = Cuenta('Jose', 500)\n",
    "cuenta1.mostrar()\n",
    "cuenta1.depositar(100)\n",
    "cuenta1.mostrar()\n",
    "cuenta1.retirar(300)\n",
    "cuenta1.mostrar()"
   ]
  },
  {
   "cell_type": "code",
   "execution_count": null,
   "id": "dbb8a8d6-32b4-46e1-aaa5-6aa3a2872155",
   "metadata": {},
   "outputs": [],
   "source": []
  }
 ],
 "metadata": {
  "kernelspec": {
   "display_name": "Python 3 (ipykernel)",
   "language": "python",
   "name": "python3"
  },
  "language_info": {
   "codemirror_mode": {
    "name": "ipython",
    "version": 3
   },
   "file_extension": ".py",
   "mimetype": "text/x-python",
   "name": "python",
   "nbconvert_exporter": "python",
   "pygments_lexer": "ipython3",
   "version": "3.12.4"
  }
 },
 "nbformat": 4,
 "nbformat_minor": 5
}
