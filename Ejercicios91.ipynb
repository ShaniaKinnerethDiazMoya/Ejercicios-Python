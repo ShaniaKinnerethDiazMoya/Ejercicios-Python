{
 "cells": [
  {
   "cell_type": "code",
   "execution_count": 1,
   "id": "f5dbdb85-d4bd-46a7-94bc-37d236a833ea",
   "metadata": {},
   "outputs": [],
   "source": [
    "# Ejercicios 91"
   ]
  },
  {
   "cell_type": "code",
   "execution_count": null,
   "id": "d2fd776c-bc45-44fa-9b9d-001ac7aecfc5",
   "metadata": {},
   "outputs": [],
   "source": []
  }
 ],
 "metadata": {
  "kernelspec": {
   "display_name": "Python 3 (ipykernel)",
   "language": "python",
   "name": "python3"
  },
  "language_info": {
   "codemirror_mode": {
    "name": "ipython",
    "version": 3
   },
   "file_extension": ".py",
   "mimetype": "text/x-python",
   "name": "python",
   "nbconvert_exporter": "python",
   "pygments_lexer": "ipython3",
   "version": "3.12.4"
  }
 },
 "nbformat": 4,
 "nbformat_minor": 5
}
