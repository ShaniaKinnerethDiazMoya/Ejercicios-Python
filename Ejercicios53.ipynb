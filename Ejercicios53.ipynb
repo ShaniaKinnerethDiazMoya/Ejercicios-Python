{
 "cells": [
  {
   "cell_type": "markdown",
   "id": "3d1820d0-9045-47a6-b398-5684fb114dbd",
   "metadata": {},
   "source": [
    "# Ejercicios 53"
   ]
  },
  {
   "cell_type": "markdown",
   "id": "fd791ed5-6b72-4282-b0a3-fd647f6ae7e5",
   "metadata": {},
   "source": [
    "### Imprimir los elementos de una  lista dada "
   ]
  },
  {
   "cell_type": "code",
   "execution_count": 5,
   "id": "09db2dd1-aef1-4d24-9cd4-0c643a003046",
   "metadata": {},
   "outputs": [
    {
     "name": "stdout",
     "output_type": "stream",
     "text": [
      "10\n",
      "20\n",
      "30\n",
      "40\n",
      "50\n"
     ]
    }
   ],
   "source": [
    "lista1 = [10,20,30,40,50]\n",
    "\n",
    "for elemento in lista1:\n",
    "    print(elemento)"
   ]
  },
  {
   "cell_type": "code",
   "execution_count": null,
   "id": "156d6dbd-a238-4ebd-8b3c-f1ba98976015",
   "metadata": {},
   "outputs": [],
   "source": []
  }
 ],
 "metadata": {
  "kernelspec": {
   "display_name": "Python 3 (ipykernel)",
   "language": "python",
   "name": "python3"
  },
  "language_info": {
   "codemirror_mode": {
    "name": "ipython",
    "version": 3
   },
   "file_extension": ".py",
   "mimetype": "text/x-python",
   "name": "python",
   "nbconvert_exporter": "python",
   "pygments_lexer": "ipython3",
   "version": "3.12.4"
  }
 },
 "nbformat": 4,
 "nbformat_minor": 5
}
