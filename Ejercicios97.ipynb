{
 "cells": [
  {
   "cell_type": "markdown",
   "id": "e735f9b4-0832-4fb4-a67f-7abb6e3845b9",
   "metadata": {},
   "source": [
    "# Ejercicios 97"
   ]
  },
  {
   "cell_type": "code",
   "execution_count": null,
   "id": "b10b2c25-a69f-46d5-8835-5fd93497cb23",
   "metadata": {},
   "outputs": [],
   "source": []
  }
 ],
 "metadata": {
  "kernelspec": {
   "display_name": "Python 3 (ipykernel)",
   "language": "python",
   "name": "python3"
  },
  "language_info": {
   "codemirror_mode": {
    "name": "ipython",
    "version": 3
   },
   "file_extension": ".py",
   "mimetype": "text/x-python",
   "name": "python",
   "nbconvert_exporter": "python",
   "pygments_lexer": "ipython3",
   "version": "3.12.4"
  }
 },
 "nbformat": 4,
 "nbformat_minor": 5
}
