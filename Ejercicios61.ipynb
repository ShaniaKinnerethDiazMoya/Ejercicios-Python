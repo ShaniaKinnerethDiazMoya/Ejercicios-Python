{
 "cells": [
  {
   "cell_type": "markdown",
   "id": "166a75bb-c74d-4a22-b630-175d147fd7ce",
   "metadata": {},
   "source": [
    "# Ejercicios 61"
   ]
  },
  {
   "cell_type": "markdown",
   "id": "bf96f197-b6a9-4920-b3cf-e7d822600d6d",
   "metadata": {},
   "source": [
    "### Crea una funcion para sumar dos numeros"
   ]
  },
  {
   "cell_type": "code",
   "execution_count": 9,
   "id": "05e11bcd-4fbe-4d07-a6fe-e9a136d89b1a",
   "metadata": {},
   "outputs": [],
   "source": [
    "def sumar(num1, num2):\n",
    "    return num1 + num2\n",
    "    print(sumar(5, 10))"
   ]
  },
  {
   "cell_type": "code",
   "execution_count": null,
   "id": "b28c5d9e-a212-441a-bd78-58aa92e6c9a9",
   "metadata": {},
   "outputs": [],
   "source": []
  }
 ],
 "metadata": {
  "kernelspec": {
   "display_name": "Python 3 (ipykernel)",
   "language": "python",
   "name": "python3"
  },
  "language_info": {
   "codemirror_mode": {
    "name": "ipython",
    "version": 3
   },
   "file_extension": ".py",
   "mimetype": "text/x-python",
   "name": "python",
   "nbconvert_exporter": "python",
   "pygments_lexer": "ipython3",
   "version": "3.12.4"
  }
 },
 "nbformat": 4,
 "nbformat_minor": 5
}
