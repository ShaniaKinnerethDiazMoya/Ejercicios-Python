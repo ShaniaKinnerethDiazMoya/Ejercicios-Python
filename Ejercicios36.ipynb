{
 "cells": [
  {
   "cell_type": "markdown",
   "id": "09bba4a8-27a9-4aa8-bc19-23ab91e21863",
   "metadata": {},
   "source": [
    "# Ejercicios 36"
   ]
  },
  {
   "cell_type": "markdown",
   "id": "f3627127-f4e7-4458-bb94-bce204658346",
   "metadata": {},
   "source": [
    "### Pide un caracter y determina si es una vocal "
   ]
  },
  {
   "cell_type": "code",
   "execution_count": 5,
   "id": "ad8c6e84-df70-419d-8b6c-ef218a64d1d6",
   "metadata": {},
   "outputs": [
    {
     "name": "stdin",
     "output_type": "stream",
     "text": [
      "Ingresa caracter e\n"
     ]
    },
    {
     "name": "stdout",
     "output_type": "stream",
     "text": [
      "Es una vocal\n"
     ]
    }
   ],
   "source": [
    "caracter = input(\"Ingresa caracter\")\n",
    "vocales = ['a','e','i','o','u']\n",
    "\n",
    "if caracter.lower() in vocales:\n",
    "    print (\"Es una vocal\") \n",
    "else:\n",
    "    print (\"No es una vocal\")"
   ]
  },
  {
   "cell_type": "code",
   "execution_count": null,
   "id": "639e0166-580a-4604-acdd-33e8a6d85328",
   "metadata": {},
   "outputs": [],
   "source": []
  }
 ],
 "metadata": {
  "kernelspec": {
   "display_name": "Python 3 (ipykernel)",
   "language": "python",
   "name": "python3"
  },
  "language_info": {
   "codemirror_mode": {
    "name": "ipython",
    "version": 3
   },
   "file_extension": ".py",
   "mimetype": "text/x-python",
   "name": "python",
   "nbconvert_exporter": "python",
   "pygments_lexer": "ipython3",
   "version": "3.12.4"
  }
 },
 "nbformat": 4,
 "nbformat_minor": 5
}
