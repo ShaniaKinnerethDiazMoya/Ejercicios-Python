{
 "cells": [
  {
   "cell_type": "markdown",
   "id": "132a75e7-64db-44b6-b280-33ee172ddc85",
   "metadata": {},
   "source": [
    "# Ejercicios 94"
   ]
  },
  {
   "cell_type": "code",
   "execution_count": null,
   "id": "95a971dd-0220-4b86-91ac-a0bdae23e935",
   "metadata": {},
   "outputs": [],
   "source": []
  }
 ],
 "metadata": {
  "kernelspec": {
   "display_name": "Python 3 (ipykernel)",
   "language": "python",
   "name": "python3"
  },
  "language_info": {
   "codemirror_mode": {
    "name": "ipython",
    "version": 3
   },
   "file_extension": ".py",
   "mimetype": "text/x-python",
   "name": "python",
   "nbconvert_exporter": "python",
   "pygments_lexer": "ipython3",
   "version": "3.12.4"
  }
 },
 "nbformat": 4,
 "nbformat_minor": 5
}
