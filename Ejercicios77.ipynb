{
 "cells": [
  {
   "cell_type": "markdown",
   "id": "570fc50e-2325-47ce-9f24-4df52080c9b3",
   "metadata": {},
   "source": [
    "# Ejercicios 77"
   ]
  },
  {
   "cell_type": "markdown",
   "id": "bfe1e2ad-3fc6-46e3-897e-e09461aa6257",
   "metadata": {},
   "source": [
    "### Crea una clase persona"
   ]
  },
  {
   "cell_type": "code",
   "execution_count": 7,
   "id": "48f94ea6-0918-4b22-850e-1a43a436f2cf",
   "metadata": {},
   "outputs": [
    {
     "ename": "TypeError",
     "evalue": "Persona() takes no arguments",
     "output_type": "error",
     "traceback": [
      "\u001b[0;31m---------------------------------------------------------------------------\u001b[0m",
      "\u001b[0;31mTypeError\u001b[0m                                 Traceback (most recent call last)",
      "Cell \u001b[0;32mIn[7], line 34\u001b[0m\n\u001b[1;32m     31\u001b[0m         \u001b[38;5;28;01melse\u001b[39;00m:\n\u001b[1;32m     32\u001b[0m             \u001b[38;5;28;01mreturn\u001b[39;00m \u001b[38;5;28;01mFalse\u001b[39;00m\n\u001b[0;32m---> 34\u001b[0m persona1 \u001b[38;5;241m=\u001b[39m Persona(\u001b[38;5;124m'\u001b[39m\u001b[38;5;124mJose\u001b[39m\u001b[38;5;124m'\u001b[39m, \u001b[38;5;241m25\u001b[39m)\n\u001b[1;32m     35\u001b[0m \u001b[38;5;28mprint\u001b[39m(persona1\u001b[38;5;241m.\u001b[39mmayor_edad())\n\u001b[1;32m     36\u001b[0m persona1\u001b[38;5;241m.\u001b[39mmostrar()\n",
      "\u001b[0;31mTypeError\u001b[0m: Persona() takes no arguments"
     ]
    }
   ],
   "source": [
    "class Persona:\n",
    "    \n",
    "    def __init___(self, nombre=None, edad=None):\n",
    "        self._nombre = nombre\n",
    "        self._edad = edad\n",
    "\n",
    "    @property\n",
    "    def nombre(self):\n",
    "        return self._nombre\n",
    "\n",
    "    @nombre.setter\n",
    "    def nombre(self, nuevo_nombre):\n",
    "        self._nombre = nuevo_nombre\n",
    "\n",
    "    \n",
    "    @property\n",
    "    def edad(self):\n",
    "        return self._edad\n",
    "\n",
    "    @edad.setter\n",
    "    def edad(self, nuevo_edad):\n",
    "        self._edad = nuevo_edad\n",
    "\n",
    "    \n",
    "    def mostrar(self):\n",
    "        print(self.__dict__)\n",
    "\n",
    "    def mayor_edad(self):\n",
    "        if self._edad >= 18:\n",
    "            return True\n",
    "        else:\n",
    "            return False\n",
    "\n",
    "persona1 = Persona('Jose', 25)\n",
    "print(persona1.mayor_edad())\n",
    "persona1.mostrar()"
   ]
  },
  {
   "cell_type": "code",
   "execution_count": null,
   "id": "7302a3e3-5782-4717-abe5-677beef4c785",
   "metadata": {},
   "outputs": [],
   "source": []
  }
 ],
 "metadata": {
  "kernelspec": {
   "display_name": "Python 3 (ipykernel)",
   "language": "python",
   "name": "python3"
  },
  "language_info": {
   "codemirror_mode": {
    "name": "ipython",
    "version": 3
   },
   "file_extension": ".py",
   "mimetype": "text/x-python",
   "name": "python",
   "nbconvert_exporter": "python",
   "pygments_lexer": "ipython3",
   "version": "3.12.4"
  }
 },
 "nbformat": 4,
 "nbformat_minor": 5
}
