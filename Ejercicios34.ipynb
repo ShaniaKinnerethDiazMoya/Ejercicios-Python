{
 "cells": [
  {
   "cell_type": "markdown",
   "id": "d1216620-3ff2-4565-933d-59e91d9e8e85",
   "metadata": {},
   "source": [
    "# Ejercicios 34"
   ]
  },
  {
   "cell_type": "markdown",
   "id": "450dfcde-dd87-4804-bac7-7431bce020bf",
   "metadata": {},
   "source": [
    "### Verifica si una cadena es mayor o igual a 10 caracteres"
   ]
  },
  {
   "cell_type": "code",
   "execution_count": 5,
   "id": "96d65e60-7a0c-4c17-b0ec-5261583df498",
   "metadata": {},
   "outputs": [
    {
     "name": "stdout",
     "output_type": "stream",
     "text": [
      "La cadena tiene 10 o mas caracteres\n"
     ]
    }
   ],
   "source": [
    "cadena = 'hola que tal'\n",
    "\n",
    "if len(cadena) >= 10:\n",
    "    print('La cadena tiene 10 o mas caracteres')\n",
    "else: \n",
    "    print('La cdena tiene menos de 10 caracteres')"
   ]
  },
  {
   "cell_type": "code",
   "execution_count": null,
   "id": "3351524c-1e15-4e97-a594-8503e0606b3e",
   "metadata": {},
   "outputs": [],
   "source": []
  }
 ],
 "metadata": {
  "kernelspec": {
   "display_name": "Python 3 (ipykernel)",
   "language": "python",
   "name": "python3"
  },
  "language_info": {
   "codemirror_mode": {
    "name": "ipython",
    "version": 3
   },
   "file_extension": ".py",
   "mimetype": "text/x-python",
   "name": "python",
   "nbconvert_exporter": "python",
   "pygments_lexer": "ipython3",
   "version": "3.12.4"
  }
 },
 "nbformat": 4,
 "nbformat_minor": 5
}
