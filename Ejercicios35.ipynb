{
 "cells": [
  {
   "cell_type": "markdown",
   "id": "22a81e69-1a5f-4c56-b075-530217e45972",
   "metadata": {},
   "source": [
    "# Ejercicios 35"
   ]
  },
  {
   "cell_type": "markdown",
   "id": "372f9f96-1fc7-452e-a6ec-1272d9a3ef2b",
   "metadata": {},
   "source": [
    "### Comprueba si un numero esta en el rango de 1 a 100"
   ]
  },
  {
   "cell_type": "code",
   "execution_count": null,
   "id": "da86da7d-de0d-4373-b064-68839fa033a5",
   "metadata": {},
   "outputs": [],
   "source": [
    "numero = int(input(\"Escribe un numero\"))\n",
    "\n",
    "if (numero >= 1) and (numero <= 100):\n",
    "    print('El numero entra en elrango')\n",
    "else:\n",
    "    print()"
   ]
  }
 ],
 "metadata": {
  "kernelspec": {
   "display_name": "Python 3 (ipykernel)",
   "language": "python",
   "name": "python3"
  },
  "language_info": {
   "codemirror_mode": {
    "name": "ipython",
    "version": 3
   },
   "file_extension": ".py",
   "mimetype": "text/x-python",
   "name": "python",
   "nbconvert_exporter": "python",
   "pygments_lexer": "ipython3",
   "version": "3.12.4"
  }
 },
 "nbformat": 4,
 "nbformat_minor": 5
}
