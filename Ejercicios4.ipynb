{
 "cells": [
  {
   "cell_type": "markdown",
   "id": "4c8c2dca-e334-414e-91ce-e6e34299a029",
   "metadata": {},
   "source": [
    "# Ejercicios 4"
   ]
  },
  {
   "cell_type": "markdown",
   "id": "ae75148b-a8fb-47c7-8bbf-c4afe938f978",
   "metadata": {},
   "source": [
    "### Crea lista con diferentes elementos e imprimirla "
   ]
  },
  {
   "cell_type": "code",
   "execution_count": 7,
   "id": "2a43d8a6-b144-4be6-846f-c304ad9d2c7e",
   "metadata": {},
   "outputs": [
    {
     "data": {
      "text/plain": [
       "[1, 'dos', 3.0, True]"
      ]
     },
     "execution_count": 7,
     "metadata": {},
     "output_type": "execute_result"
    }
   ],
   "source": [
    "lista1 = [1, \"dos\", 3.0, True] # los corchetes sirven para hacer la cadena\n",
    "\n",
    "lista1"
   ]
  },
  {
   "cell_type": "code",
   "execution_count": null,
   "id": "5420ca28-19c4-4f76-9c7a-6f4872189734",
   "metadata": {},
   "outputs": [],
   "source": []
  }
 ],
 "metadata": {
  "kernelspec": {
   "display_name": "Python 3 (ipykernel)",
   "language": "python",
   "name": "python3"
  },
  "language_info": {
   "codemirror_mode": {
    "name": "ipython",
    "version": 3
   },
   "file_extension": ".py",
   "mimetype": "text/x-python",
   "name": "python",
   "nbconvert_exporter": "python",
   "pygments_lexer": "ipython3",
   "version": "3.12.4"
  }
 },
 "nbformat": 4,
 "nbformat_minor": 5
}
