{
 "cells": [
  {
   "cell_type": "markdown",
   "id": "17c4bc82-e0ec-47e2-bd47-93fc647a6d90",
   "metadata": {},
   "source": [
    "# Ejercicios 41"
   ]
  },
  {
   "cell_type": "markdown",
   "id": "0cf5f85c-a728-4bf7-b2ab-6838e8700f7e",
   "metadata": {},
   "source": [
    "### Imprime los numeros del 10 al 1 de forma descendiente "
   ]
  },
  {
   "cell_type": "code",
   "execution_count": 3,
   "id": "2f45e991-89ec-45af-993f-771c0b0d2e7e",
   "metadata": {},
   "outputs": [
    {
     "name": "stdout",
     "output_type": "stream",
     "text": [
      "10\n",
      "9\n",
      "8\n",
      "7\n",
      "6\n",
      "5\n",
      "4\n",
      "3\n",
      "2\n",
      "1\n"
     ]
    }
   ],
   "source": [
    "contador = 10\n",
    "while contador > 0:\n",
    "    print(contador)\n",
    "    contador -=1"
   ]
  },
  {
   "cell_type": "code",
   "execution_count": null,
   "id": "98fb0d6d-3c31-4126-a210-24c7ebc2ffe0",
   "metadata": {},
   "outputs": [],
   "source": []
  }
 ],
 "metadata": {
  "kernelspec": {
   "display_name": "Python 3 (ipykernel)",
   "language": "python",
   "name": "python3"
  },
  "language_info": {
   "codemirror_mode": {
    "name": "ipython",
    "version": 3
   },
   "file_extension": ".py",
   "mimetype": "text/x-python",
   "name": "python",
   "nbconvert_exporter": "python",
   "pygments_lexer": "ipython3",
   "version": "3.12.4"
  }
 },
 "nbformat": 4,
 "nbformat_minor": 5
}
