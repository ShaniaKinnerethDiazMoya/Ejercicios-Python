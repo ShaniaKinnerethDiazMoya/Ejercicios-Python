{
 "cells": [
  {
   "cell_type": "markdown",
   "id": "7c1c1873-5e4f-4ecb-89a1-71e19630606c",
   "metadata": {},
   "source": [
    "# Ejercicios 37"
   ]
  },
  {
   "cell_type": "markdown",
   "id": "de42eed9-4771-4640-9cf8-effba85a6f60",
   "metadata": {},
   "source": [
    "### Calcula el maximo de 3 numeros"
   ]
  },
  {
   "cell_type": "code",
   "execution_count": 1,
   "id": "0bc06f4c-5a10-4565-9a33-7ec224bce41f",
   "metadata": {},
   "outputs": [
    {
     "name": "stdout",
     "output_type": "stream",
     "text": [
      "El numero max  28\n"
     ]
    }
   ],
   "source": [
    "numero1 = 20\n",
    "numero2 = 2\n",
    "numero3 = 28\n",
    "\n",
    "maximo = max(numero1, numero2, numero3)\n",
    "\n",
    "print(\"El numero max \", maximo)"
   ]
  },
  {
   "cell_type": "code",
   "execution_count": null,
   "id": "75e4d09b-75f2-4c93-b5bd-9b7fffd547e3",
   "metadata": {},
   "outputs": [],
   "source": []
  }
 ],
 "metadata": {
  "kernelspec": {
   "display_name": "Python 3 (ipykernel)",
   "language": "python",
   "name": "python3"
  },
  "language_info": {
   "codemirror_mode": {
    "name": "ipython",
    "version": 3
   },
   "file_extension": ".py",
   "mimetype": "text/x-python",
   "name": "python",
   "nbconvert_exporter": "python",
   "pygments_lexer": "ipython3",
   "version": "3.12.4"
  }
 },
 "nbformat": 4,
 "nbformat_minor": 5
}
