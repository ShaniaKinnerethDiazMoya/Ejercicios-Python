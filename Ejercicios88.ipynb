{
 "cells": [
  {
   "cell_type": "markdown",
   "id": "e6ada9f3-a89a-4236-9dd4-6d93430264ef",
   "metadata": {},
   "source": [
    "# Ejercicios 88"
   ]
  },
  {
   "cell_type": "markdown",
   "id": "42f4131c-69d8-4b35-877a-e7c0732e74bc",
   "metadata": {},
   "source": [
    "### Verificar si un numero es par usando lambda"
   ]
  },
  {
   "cell_type": "code",
   "execution_count": 9,
   "id": "f32e236b-116f-4a0d-9d3c-d5736cb23cb7",
   "metadata": {},
   "outputs": [
    {
     "ename": "TypeError",
     "evalue": "'bool' object is not callable",
     "output_type": "error",
     "traceback": [
      "\u001b[0;31m---------------------------------------------------------------------------\u001b[0m",
      "\u001b[0;31mTypeError\u001b[0m                                 Traceback (most recent call last)",
      "Cell \u001b[0;32mIn[9], line 3\u001b[0m\n\u001b[1;32m      1\u001b[0m par \u001b[38;5;241m=\u001b[39m \u001b[38;5;28;01mlambda\u001b[39;00m x : x \u001b[38;5;241m%\u001b[39m \u001b[38;5;241m2\u001b[39m \u001b[38;5;241m==\u001b[39m \u001b[38;5;241m0\u001b[39m\n\u001b[0;32m----> 3\u001b[0m \u001b[38;5;28mprint\u001b[39m(par(\u001b[38;5;241m10\u001b[39m))\n",
      "\u001b[0;31mTypeError\u001b[0m: 'bool' object is not callable"
     ]
    }
   ],
   "source": [
    "par = lambda x : x % 2 == 0\n",
    "\n",
    "print(par(10))"
   ]
  },
  {
   "cell_type": "code",
   "execution_count": null,
   "id": "b67f44fd-1fa3-429d-8dd6-93763b277bb0",
   "metadata": {},
   "outputs": [],
   "source": []
  }
 ],
 "metadata": {
  "kernelspec": {
   "display_name": "Python 3 (ipykernel)",
   "language": "python",
   "name": "python3"
  },
  "language_info": {
   "codemirror_mode": {
    "name": "ipython",
    "version": 3
   },
   "file_extension": ".py",
   "mimetype": "text/x-python",
   "name": "python",
   "nbconvert_exporter": "python",
   "pygments_lexer": "ipython3",
   "version": "3.12.4"
  }
 },
 "nbformat": 4,
 "nbformat_minor": 5
}
