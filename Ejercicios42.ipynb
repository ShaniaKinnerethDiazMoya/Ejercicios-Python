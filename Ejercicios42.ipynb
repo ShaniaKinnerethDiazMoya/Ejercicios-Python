{
 "cells": [
  {
   "cell_type": "markdown",
   "id": "f7f288cb-4616-4fad-bc31-61fb545751d9",
   "metadata": {},
   "source": [
    "# Ejercicios 42"
   ]
  },
  {
   "cell_type": "markdown",
   "id": "d40bc94d-07b3-4f2d-9930-e7126d53421b",
   "metadata": {},
   "source": [
    "### Solicita al usuario ungresar un numero N y luego imprime la suma de todos los numeros del 1 al N"
   ]
  },
  {
   "cell_type": "code",
   "execution_count": 5,
   "id": "72bce353-0904-4e12-82b7-7552c36bde31",
   "metadata": {},
   "outputs": [
    {
     "name": "stdin",
     "output_type": "stream",
     "text": [
      "Ingresa un numero 4\n"
     ]
    },
    {
     "name": "stdout",
     "output_type": "stream",
     "text": [
      "la suma es:  10\n"
     ]
    }
   ],
   "source": [
    "numero = int(input('Ingresa un numero'))\n",
    "suma = 0\n",
    "i = 1\n",
    "while i <= numero:\n",
    "    suma += i\n",
    "    i += 1\n",
    "print('la suma es: ',suma)"
   ]
  },
  {
   "cell_type": "code",
   "execution_count": null,
   "id": "e17d5883-0015-43be-8268-d8ea15339798",
   "metadata": {},
   "outputs": [],
   "source": []
  }
 ],
 "metadata": {
  "kernelspec": {
   "display_name": "Python 3 (ipykernel)",
   "language": "python",
   "name": "python3"
  },
  "language_info": {
   "codemirror_mode": {
    "name": "ipython",
    "version": 3
   },
   "file_extension": ".py",
   "mimetype": "text/x-python",
   "name": "python",
   "nbconvert_exporter": "python",
   "pygments_lexer": "ipython3",
   "version": "3.12.4"
  }
 },
 "nbformat": 4,
 "nbformat_minor": 5
}
