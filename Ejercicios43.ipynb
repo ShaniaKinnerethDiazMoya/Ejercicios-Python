{
 "cells": [
  {
   "cell_type": "markdown",
   "id": "3aeee129-32c5-4e1d-954b-5bd0c2b5fe62",
   "metadata": {},
   "source": [
    "# Ejercicios 43"
   ]
  },
  {
   "cell_type": "markdown",
   "id": "62ba78d3-d4c4-439a-9c64-a10fef987fc5",
   "metadata": {},
   "source": [
    "### Solicita al usuario ingresar un numero n e imprimir el factorial de ese numero "
   ]
  },
  {
   "cell_type": "code",
   "execution_count": 3,
   "id": "bd98e5d2-de04-475c-97bc-01a014c1599f",
   "metadata": {},
   "outputs": [
    {
     "name": "stdin",
     "output_type": "stream",
     "text": [
      "Ingresa el numero 5\n"
     ]
    },
    {
     "name": "stdout",
     "output_type": "stream",
     "text": [
      "el factorial es:  120\n"
     ]
    }
   ],
   "source": [
    "numero = int(input('Ingresa el numero'))\n",
    "factorial = 1\n",
    "i = 1\n",
    "while i <= numero:\n",
    "    factorial = factorial * i\n",
    "    i = i + 1\n",
    "print('el factorial es: ',factorial)"
   ]
  },
  {
   "cell_type": "code",
   "execution_count": null,
   "id": "87e1aef7-8705-46c1-8ff6-a4ec3b86268d",
   "metadata": {},
   "outputs": [],
   "source": []
  }
 ],
 "metadata": {
  "kernelspec": {
   "display_name": "Python 3 (ipykernel)",
   "language": "python",
   "name": "python3"
  },
  "language_info": {
   "codemirror_mode": {
    "name": "ipython",
    "version": 3
   },
   "file_extension": ".py",
   "mimetype": "text/x-python",
   "name": "python",
   "nbconvert_exporter": "python",
   "pygments_lexer": "ipython3",
   "version": "3.12.4"
  }
 },
 "nbformat": 4,
 "nbformat_minor": 5
}
