{
 "cells": [
  {
   "cell_type": "markdown",
   "id": "de13e789-0ab9-4562-bdd5-5eba2d246e0f",
   "metadata": {},
   "source": [
    "# Ejercicios 65"
   ]
  },
  {
   "cell_type": "markdown",
   "id": "0584e1fc-568a-4cb9-adee-0ee05558f66e",
   "metadata": {},
   "source": [
    "### Escribe una funcion para convertir grados celsius a fahrenheit"
   ]
  },
  {
   "cell_type": "code",
   "execution_count": 3,
   "id": "3d400a2f-8f2b-4f52-b4cf-c1a8065bdf85",
   "metadata": {},
   "outputs": [
    {
     "name": "stdout",
     "output_type": "stream",
     "text": [
      "86.0\n"
     ]
    }
   ],
   "source": [
    "def celsius_a_fahrenheit(grados_c):\n",
    "    return(grados_c * 9/5) + 32\n",
    "\n",
    "resultado = celsius_a_fahrenheit(30)\n",
    "\n",
    "print(resultado)"
   ]
  },
  {
   "cell_type": "code",
   "execution_count": null,
   "id": "8b04ddfa-6d9d-4b8d-9f19-bc6cfcc254fb",
   "metadata": {},
   "outputs": [],
   "source": []
  }
 ],
 "metadata": {
  "kernelspec": {
   "display_name": "Python 3 (ipykernel)",
   "language": "python",
   "name": "python3"
  },
  "language_info": {
   "codemirror_mode": {
    "name": "ipython",
    "version": 3
   },
   "file_extension": ".py",
   "mimetype": "text/x-python",
   "name": "python",
   "nbconvert_exporter": "python",
   "pygments_lexer": "ipython3",
   "version": "3.12.4"
  }
 },
 "nbformat": 4,
 "nbformat_minor": 5
}
