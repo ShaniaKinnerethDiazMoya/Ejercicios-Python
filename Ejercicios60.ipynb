{
 "cells": [
  {
   "cell_type": "markdown",
   "id": "a5bfabea-1b21-45d9-a6a4-d8d56782ed79",
   "metadata": {},
   "source": [
    "# Ejercicios 60"
   ]
  },
  {
   "cell_type": "markdown",
   "id": "78a5f512-7567-4612-8bf5-13d9dbcb8a37",
   "metadata": {},
   "source": [
    "### Imprimir la suma de los numeros pares del 1 al 10 utilizando el ciclo for "
   ]
  },
  {
   "cell_type": "code",
   "execution_count": 5,
   "id": "1f4c04d0-9089-42a0-b0be-893c1bdea2bf",
   "metadata": {},
   "outputs": [
    {
     "name": "stdout",
     "output_type": "stream",
     "text": [
      "suma de pares es: 2\n",
      "suma de pares es: 6\n",
      "suma de pares es: 12\n",
      "suma de pares es: 20\n",
      "suma de pares es: 30\n"
     ]
    }
   ],
   "source": [
    "suma_pares = 0\n",
    "\n",
    "for i in range (1, 11):\n",
    "    if i % 2 == 0:\n",
    "        suma_pares = suma_pares + i\n",
    "        print(\"suma de pares es:\", suma_pares)"
   ]
  },
  {
   "cell_type": "code",
   "execution_count": null,
   "id": "92eb7ad7-c2c0-4214-88b6-742a9006efb8",
   "metadata": {},
   "outputs": [],
   "source": []
  }
 ],
 "metadata": {
  "kernelspec": {
   "display_name": "Python 3 (ipykernel)",
   "language": "python",
   "name": "python3"
  },
  "language_info": {
   "codemirror_mode": {
    "name": "ipython",
    "version": 3
   },
   "file_extension": ".py",
   "mimetype": "text/x-python",
   "name": "python",
   "nbconvert_exporter": "python",
   "pygments_lexer": "ipython3",
   "version": "3.12.4"
  }
 },
 "nbformat": 4,
 "nbformat_minor": 5
}
