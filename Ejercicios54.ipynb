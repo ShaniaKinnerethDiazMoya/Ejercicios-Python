{
 "cells": [
  {
   "cell_type": "markdown",
   "id": "45213893-d99b-4044-8528-80f20af3c2e4",
   "metadata": {},
   "source": [
    "# Ejercicios 54"
   ]
  },
  {
   "cell_type": "markdown",
   "id": "664b2748-d078-43b0-b827-b55fd9b9b685",
   "metadata": {},
   "source": [
    "### Imprimir los carcateres de una cadena utilizando el ciclo for"
   ]
  },
  {
   "cell_type": "code",
   "execution_count": 3,
   "id": "340abd00-9e9a-4f6d-9cff-203e801c68e5",
   "metadata": {},
   "outputs": [
    {
     "name": "stdout",
     "output_type": "stream",
     "text": [
      "H\n",
      "o\n",
      "l\n",
      "a\n",
      " \n",
      "q\n",
      "u\n",
      "e\n",
      " \n",
      "t\n",
      "a\n",
      "l\n"
     ]
    }
   ],
   "source": [
    "cadena = \"Hola que tal\"\n",
    "for caracter in cadena:\n",
    "    print(caracter)\n",
    "    "
   ]
  },
  {
   "cell_type": "code",
   "execution_count": null,
   "id": "574c898b-b05d-49d3-b87e-3eb2953c9b7e",
   "metadata": {},
   "outputs": [],
   "source": []
  }
 ],
 "metadata": {
  "kernelspec": {
   "display_name": "Python 3 (ipykernel)",
   "language": "python",
   "name": "python3"
  },
  "language_info": {
   "codemirror_mode": {
    "name": "ipython",
    "version": 3
   },
   "file_extension": ".py",
   "mimetype": "text/x-python",
   "name": "python",
   "nbconvert_exporter": "python",
   "pygments_lexer": "ipython3",
   "version": "3.12.4"
  }
 },
 "nbformat": 4,
 "nbformat_minor": 5
}
