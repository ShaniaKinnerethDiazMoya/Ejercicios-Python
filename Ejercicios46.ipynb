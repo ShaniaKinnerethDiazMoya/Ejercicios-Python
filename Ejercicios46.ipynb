{
 "cells": [
  {
   "cell_type": "markdown",
   "id": "4adfdc7b-4d3e-4b3a-8f5a-24cd23a15085",
   "metadata": {},
   "source": [
    "# Ejercicios 46"
   ]
  },
  {
   "cell_type": "markdown",
   "id": "38f1fceb-9bb2-4326-9918-b93bf4774674",
   "metadata": {},
   "source": [
    "### Solicita al usuario ingresar un numero y cuenta cuantos digitos tiene"
   ]
  },
  {
   "cell_type": "code",
   "execution_count": 5,
   "id": "eae014d0-b666-470b-bc87-9c96b15dbf88",
   "metadata": {},
   "outputs": [
    {
     "name": "stdin",
     "output_type": "stream",
     "text": [
      "ingrese el numero 456\n"
     ]
    },
    {
     "name": "stdout",
     "output_type": "stream",
     "text": [
      "Digitos son:  3\n"
     ]
    }
   ],
   "source": [
    "numero = int(input('ingrese el numero'))\n",
    "contador = 0\n",
    "while numero != 0:\n",
    "    numero = numero // 10\n",
    "    contador = contador + 1\n",
    "print(\"Digitos son: \", contador)"
   ]
  },
  {
   "cell_type": "code",
   "execution_count": null,
   "id": "cba3646f-850b-46fb-b020-ddb21a169017",
   "metadata": {},
   "outputs": [],
   "source": []
  }
 ],
 "metadata": {
  "kernelspec": {
   "display_name": "Python 3 (ipykernel)",
   "language": "python",
   "name": "python3"
  },
  "language_info": {
   "codemirror_mode": {
    "name": "ipython",
    "version": 3
   },
   "file_extension": ".py",
   "mimetype": "text/x-python",
   "name": "python",
   "nbconvert_exporter": "python",
   "pygments_lexer": "ipython3",
   "version": "3.12.4"
  }
 },
 "nbformat": 4,
 "nbformat_minor": 5
}
