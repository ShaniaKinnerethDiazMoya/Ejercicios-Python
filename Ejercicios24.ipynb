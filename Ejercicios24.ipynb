{
 "cells": [
  {
   "cell_type": "markdown",
   "id": "16ba7e28-a39e-4547-bd1e-f7aabb1d15d0",
   "metadata": {},
   "source": [
    "# Ejercicios 24"
   ]
  },
  {
   "cell_type": "markdown",
   "id": "e780eb42-6888-4c6d-8667-6f1ebf7e6e8c",
   "metadata": {},
   "source": [
    "### Elimina un elemento especifico de una lista "
   ]
  },
  {
   "cell_type": "code",
   "execution_count": 5,
   "id": "8656fdad-4598-4910-8c30-859cb149b211",
   "metadata": {},
   "outputs": [
    {
     "data": {
      "text/plain": [
       "[1, 2, 4, 5]"
      ]
     },
     "execution_count": 5,
     "metadata": {},
     "output_type": "execute_result"
    }
   ],
   "source": [
    "lista = [1,2,3,4,5]\n",
    "lista.remove(3)\n",
    "lista"
   ]
  },
  {
   "cell_type": "code",
   "execution_count": null,
   "id": "a4f9803f-af59-4c55-961d-42664ba6fb70",
   "metadata": {},
   "outputs": [],
   "source": []
  }
 ],
 "metadata": {
  "kernelspec": {
   "display_name": "Python 3 (ipykernel)",
   "language": "python",
   "name": "python3"
  },
  "language_info": {
   "codemirror_mode": {
    "name": "ipython",
    "version": 3
   },
   "file_extension": ".py",
   "mimetype": "text/x-python",
   "name": "python",
   "nbconvert_exporter": "python",
   "pygments_lexer": "ipython3",
   "version": "3.12.4"
  }
 },
 "nbformat": 4,
 "nbformat_minor": 5
}
