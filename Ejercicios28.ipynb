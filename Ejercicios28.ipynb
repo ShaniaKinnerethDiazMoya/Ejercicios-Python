{
 "cells": [
  {
   "cell_type": "markdown",
   "id": "f63b40ef-253c-4791-826b-34b994a0a7b5",
   "metadata": {},
   "source": [
    "# Ejercicios 28"
   ]
  },
  {
   "cell_type": "markdown",
   "id": "3c4f9859-ad76-453e-bfe3-1fd89bbed3eb",
   "metadata": {},
   "source": [
    "### Extrae un elemento especifico de una tupla"
   ]
  },
  {
   "cell_type": "code",
   "execution_count": 4,
   "id": "06a37da7-d3cd-4196-ad1c-517189e97a94",
   "metadata": {},
   "outputs": [
    {
     "data": {
      "text/plain": [
       "20"
      ]
     },
     "execution_count": 4,
     "metadata": {},
     "output_type": "execute_result"
    }
   ],
   "source": [
    "tupla = (10,20,30)\n",
    "elemento = tupla[1]\n",
    "elemento"
   ]
  },
  {
   "cell_type": "code",
   "execution_count": null,
   "id": "eeafca91-2251-4c72-b3b1-eab53e79c891",
   "metadata": {},
   "outputs": [],
   "source": []
  }
 ],
 "metadata": {
  "kernelspec": {
   "display_name": "Python 3 (ipykernel)",
   "language": "python",
   "name": "python3"
  },
  "language_info": {
   "codemirror_mode": {
    "name": "ipython",
    "version": 3
   },
   "file_extension": ".py",
   "mimetype": "text/x-python",
   "name": "python",
   "nbconvert_exporter": "python",
   "pygments_lexer": "ipython3",
   "version": "3.12.4"
  }
 },
 "nbformat": 4,
 "nbformat_minor": 5
}
