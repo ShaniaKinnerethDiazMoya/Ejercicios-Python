{
 "cells": [
  {
   "cell_type": "markdown",
   "id": "c68f453e-878e-48a8-85f5-cbf07021060c",
   "metadata": {},
   "source": [
    "# Ejercicios 80"
   ]
  },
  {
   "cell_type": "markdown",
   "id": "d1261ca2-516c-4938-945f-1a58c1ff2a2b",
   "metadata": {},
   "source": [
    "### Obtener la cantidad de memoria ram "
   ]
  },
  {
   "cell_type": "code",
   "execution_count": 3,
   "id": "db51d271-d2ff-4792-8b67-5116132d6022",
   "metadata": {},
   "outputs": [
    {
     "name": "stdout",
     "output_type": "stream",
     "text": [
      "Total de ram  15.28499984741211 Gb\n"
     ]
    }
   ],
   "source": [
    "import psutil \n",
    "\n",
    "def obtener_ram():\n",
    "    memoria = psutil.virtual_memory()\n",
    "    memoria_total = memoria.total / (1024 ** 3)\n",
    "    return memoria_total\n",
    "\n",
    "memoria = obtener_ram()\n",
    "\n",
    "print('Total de ram ', memoria, 'Gb')"
   ]
  },
  {
   "cell_type": "code",
   "execution_count": null,
   "id": "44ff9dea-df52-4fce-85fb-3814f08735cf",
   "metadata": {},
   "outputs": [],
   "source": []
  }
 ],
 "metadata": {
  "kernelspec": {
   "display_name": "Python 3 (ipykernel)",
   "language": "python",
   "name": "python3"
  },
  "language_info": {
   "codemirror_mode": {
    "name": "ipython",
    "version": 3
   },
   "file_extension": ".py",
   "mimetype": "text/x-python",
   "name": "python",
   "nbconvert_exporter": "python",
   "pygments_lexer": "ipython3",
   "version": "3.12.4"
  }
 },
 "nbformat": 4,
 "nbformat_minor": 5
}
