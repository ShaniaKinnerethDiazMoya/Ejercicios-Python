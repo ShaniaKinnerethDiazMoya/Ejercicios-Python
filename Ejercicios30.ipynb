{
 "cells": [
  {
   "cell_type": "markdown",
   "id": "9a24d74b-6c42-47d5-9b8a-28201ccfc5e3",
   "metadata": {},
   "source": [
    "# Ejercicios 30"
   ]
  },
  {
   "cell_type": "markdown",
   "id": "03a060cf-bf14-4b1c-bb48-8440418ede9b",
   "metadata": {},
   "source": [
    "### Elimina duplicados de una lista"
   ]
  },
  {
   "cell_type": "code",
   "execution_count": null,
   "id": "fbea1aed-eb73-4980-934b-3c62e7127801",
   "metadata": {},
   "outputs": [],
   "source": [
    "lista1 = []1,2,2,3,3,4,4,5,1]\n",
    "sin_duplicados = list(set(lista1))\n",
    "\n",
    "sin_duplica"
   ]
  }
 ],
 "metadata": {
  "kernelspec": {
   "display_name": "Python 3 (ipykernel)",
   "language": "python",
   "name": "python3"
  },
  "language_info": {
   "codemirror_mode": {
    "name": "ipython",
    "version": 3
   },
   "file_extension": ".py",
   "mimetype": "text/x-python",
   "name": "python",
   "nbconvert_exporter": "python",
   "pygments_lexer": "ipython3",
   "version": "3.12.4"
  }
 },
 "nbformat": 4,
 "nbformat_minor": 5
}
