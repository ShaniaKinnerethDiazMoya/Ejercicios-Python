{
 "cells": [
  {
   "cell_type": "markdown",
   "id": "df0e10c9-9d49-4abd-81d6-27bec4589ba8",
   "metadata": {},
   "source": [
    "# Ejercicios 20"
   ]
  },
  {
   "cell_type": "markdown",
   "id": "b5935fcc-2474-4890-8290-b56cae34ec1e",
   "metadata": {},
   "source": [
    "### Encuentra y muestra el ultimo caracter de una cadena "
   ]
  },
  {
   "cell_type": "code",
   "execution_count": 3,
   "id": "40046cee-82a0-4283-89d2-aa7c8e2d7106",
   "metadata": {},
   "outputs": [
    {
     "data": {
      "text/plain": [
       "'n'"
      ]
     },
     "execution_count": 3,
     "metadata": {},
     "output_type": "execute_result"
    }
   ],
   "source": [
    "cadena = 'python'\n",
    "ultimo_caracter = cadena[-1]\n",
    "ultimo_caracter"
   ]
  },
  {
   "cell_type": "code",
   "execution_count": null,
   "id": "502f2675-f0b4-4576-808f-7dfaa0a21fa1",
   "metadata": {},
   "outputs": [],
   "source": []
  }
 ],
 "metadata": {
  "kernelspec": {
   "display_name": "Python 3 (ipykernel)",
   "language": "python",
   "name": "python3"
  },
  "language_info": {
   "codemirror_mode": {
    "name": "ipython",
    "version": 3
   },
   "file_extension": ".py",
   "mimetype": "text/x-python",
   "name": "python",
   "nbconvert_exporter": "python",
   "pygments_lexer": "ipython3",
   "version": "3.12.4"
  }
 },
 "nbformat": 4,
 "nbformat_minor": 5
}
