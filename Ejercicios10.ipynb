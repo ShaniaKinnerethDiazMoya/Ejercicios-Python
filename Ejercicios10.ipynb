{
 "cells": [
  {
   "cell_type": "markdown",
   "id": "636a5323-cdd9-4386-98c8-0129f63b5aa0",
   "metadata": {},
   "source": [
    "# Ejercicios 10"
   ]
  },
  {
   "cell_type": "markdown",
   "id": "e949c2e0-de38-46ab-a6e5-5eb1d752b24a",
   "metadata": {},
   "source": [
    "### Invertir una cadena"
   ]
  },
  {
   "cell_type": "code",
   "execution_count": 8,
   "id": "044da00e-5ab5-47b3-aa6a-eb2e97d0061f",
   "metadata": {},
   "outputs": [
    {
     "data": {
      "text/plain": [
       "'anedac'"
      ]
     },
     "execution_count": 8,
     "metadata": {},
     "output_type": "execute_result"
    }
   ],
   "source": [
    "cadena = 'cadena'\n",
    "invertir = cadena[::-1] # incio, fin y como va a ir contando \n",
    "\n",
    "invertir"
   ]
  },
  {
   "cell_type": "code",
   "execution_count": null,
   "id": "201b91bd-93fc-4f78-9faa-4c0956d27d00",
   "metadata": {},
   "outputs": [],
   "source": []
  }
 ],
 "metadata": {
  "kernelspec": {
   "display_name": "Python 3 (ipykernel)",
   "language": "python",
   "name": "python3"
  },
  "language_info": {
   "codemirror_mode": {
    "name": "ipython",
    "version": 3
   },
   "file_extension": ".py",
   "mimetype": "text/x-python",
   "name": "python",
   "nbconvert_exporter": "python",
   "pygments_lexer": "ipython3",
   "version": "3.12.4"
  }
 },
 "nbformat": 4,
 "nbformat_minor": 5
}
