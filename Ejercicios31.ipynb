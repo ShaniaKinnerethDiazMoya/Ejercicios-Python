{
 "cells": [
  {
   "cell_type": "markdown",
   "id": "8d6de7b1-7c88-4e90-a728-6d850c2d992a",
   "metadata": {},
   "source": [
    "# Ejercicios 31"
   ]
  },
  {
   "cell_type": "markdown",
   "id": "02230353-9ed0-4400-97ba-9ef4549c99ca",
   "metadata": {},
   "source": [
    "### Pide un numero y verifica si es positivo, negativo o cero"
   ]
  },
  {
   "cell_type": "code",
   "execution_count": 9,
   "id": "109fcc73-000e-4a1f-bfa8-b16b71b7cfdc",
   "metadata": {},
   "outputs": [
    {
     "name": "stdin",
     "output_type": "stream",
     "text": [
      "Imprime un numero 3\n"
     ]
    },
    {
     "name": "stdout",
     "output_type": "stream",
     "text": [
      "Positivo\n"
     ]
    }
   ],
   "source": [
    "numero = int(input(\"Imprime un numero\"))\n",
    "\n",
    "if numero > 0:\n",
    "    print('Positivo')\n",
    "elif numero < 0:\n",
    "    print('Negativo')\n",
    "else: \n",
    "    print('Cero')\n"
   ]
  },
  {
   "cell_type": "code",
   "execution_count": null,
   "id": "6d0fd245-1c7f-40c4-bc2d-267df9ddc914",
   "metadata": {},
   "outputs": [],
   "source": []
  }
 ],
 "metadata": {
  "kernelspec": {
   "display_name": "Python 3 (ipykernel)",
   "language": "python",
   "name": "python3"
  },
  "language_info": {
   "codemirror_mode": {
    "name": "ipython",
    "version": 3
   },
   "file_extension": ".py",
   "mimetype": "text/x-python",
   "name": "python",
   "nbconvert_exporter": "python",
   "pygments_lexer": "ipython3",
   "version": "3.12.4"
  }
 },
 "nbformat": 4,
 "nbformat_minor": 5
}
