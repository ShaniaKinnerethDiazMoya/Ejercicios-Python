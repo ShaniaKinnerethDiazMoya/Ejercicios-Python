{
 "cells": [
  {
   "cell_type": "markdown",
   "id": "c6a1db8b-55c2-4878-b940-7b145d6f7228",
   "metadata": {},
   "source": [
    "# Ejercicios 56"
   ]
  },
  {
   "cell_type": "markdown",
   "id": "b6fce5b2-e95d-4950-b268-69a3c7ab1c61",
   "metadata": {},
   "source": [
    "### Listar 10 numeros y calcula el cuadrado de cada uno e imprimirlo utilizando for"
   ]
  },
  {
   "cell_type": "code",
   "execution_count": 3,
   "id": "07cecc83-2243-4906-9390-752d1a356514",
   "metadata": {},
   "outputs": [
    {
     "name": "stdout",
     "output_type": "stream",
     "text": [
      "El cuadrado de 1 es 1\n",
      "El cuadrado de 2 es 4\n",
      "El cuadrado de 3 es 9\n",
      "El cuadrado de 4 es 16\n",
      "El cuadrado de 5 es 25\n",
      "El cuadrado de 6 es 36\n",
      "El cuadrado de 7 es 49\n",
      "El cuadrado de 8 es 64\n",
      "El cuadrado de 9 es 81\n",
      "El cuadrado de 10 es 100\n"
     ]
    }
   ],
   "source": [
    "for i in range (1, 11):\n",
    "    cuadrado = i ** 2\n",
    "    print(f\"El cuadrado de {i} es {cuadrado}\")"
   ]
  },
  {
   "cell_type": "code",
   "execution_count": null,
   "id": "248d94c5-3b71-4f6d-b940-0bd703faf5be",
   "metadata": {},
   "outputs": [],
   "source": []
  }
 ],
 "metadata": {
  "kernelspec": {
   "display_name": "Python 3 (ipykernel)",
   "language": "python",
   "name": "python3"
  },
  "language_info": {
   "codemirror_mode": {
    "name": "ipython",
    "version": 3
   },
   "file_extension": ".py",
   "mimetype": "text/x-python",
   "name": "python",
   "nbconvert_exporter": "python",
   "pygments_lexer": "ipython3",
   "version": "3.12.4"
  }
 },
 "nbformat": 4,
 "nbformat_minor": 5
}
