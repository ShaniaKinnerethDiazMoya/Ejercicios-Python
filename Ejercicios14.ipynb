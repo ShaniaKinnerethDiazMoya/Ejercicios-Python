{
 "cells": [
  {
   "cell_type": "markdown",
   "id": "809c1af1-546b-425b-a69d-6c76c7a2199f",
   "metadata": {},
   "source": [
    "# Ejercicios 14"
   ]
  },
  {
   "cell_type": "markdown",
   "id": "58995596-6c24-45f2-9867-0ab110c61965",
   "metadata": {},
   "source": [
    "### Pasa una cadena de mayusculas a minusculas"
   ]
  },
  {
   "cell_type": "code",
   "execution_count": 8,
   "id": "4f69e255-2802-44f2-8656-5c6f8a3ee22c",
   "metadata": {},
   "outputs": [
    {
     "data": {
      "text/plain": [
       "'python'"
      ]
     },
     "execution_count": 8,
     "metadata": {},
     "output_type": "execute_result"
    }
   ],
   "source": [
    "mayusculas = \"PYTHON\"\n",
    "minusculas = mayusculas.lower()\n",
    "\n",
    "minusculas"
   ]
  },
  {
   "cell_type": "code",
   "execution_count": null,
   "id": "1764f061-f555-4fac-8338-3c0eb0bd9162",
   "metadata": {},
   "outputs": [],
   "source": []
  }
 ],
 "metadata": {
  "kernelspec": {
   "display_name": "Python 3 (ipykernel)",
   "language": "python",
   "name": "python3"
  },
  "language_info": {
   "codemirror_mode": {
    "name": "ipython",
    "version": 3
   },
   "file_extension": ".py",
   "mimetype": "text/x-python",
   "name": "python",
   "nbconvert_exporter": "python",
   "pygments_lexer": "ipython3",
   "version": "3.12.4"
  }
 },
 "nbformat": 4,
 "nbformat_minor": 5
}
