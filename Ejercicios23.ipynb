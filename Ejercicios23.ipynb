{
 "cells": [
  {
   "cell_type": "markdown",
   "id": "539ea1c8-a8ab-4287-9ad3-a540ef9b58e6",
   "metadata": {},
   "source": [
    "# Ejercicios 23"
   ]
  },
  {
   "cell_type": "markdown",
   "id": "82569b9a-a39f-43e4-ab51-243a05c524a4",
   "metadata": {},
   "source": [
    "### Verifica si una palabra es palindromo"
   ]
  },
  {
   "cell_type": "code",
   "execution_count": 5,
   "id": "edd732f7-9d5c-4898-b1f2-33732a468995",
   "metadata": {},
   "outputs": [
    {
     "data": {
      "text/plain": [
       "True"
      ]
     },
     "execution_count": 5,
     "metadata": {},
     "output_type": "execute_result"
    }
   ],
   "source": [
    "palabra = 'radar'\n",
    "es_pa = palabra == palabra [::-1]\n",
    "\n",
    "es_pa"
   ]
  },
  {
   "cell_type": "code",
   "execution_count": null,
   "id": "70f79902-e263-4c88-8163-fbb81e97837b",
   "metadata": {},
   "outputs": [],
   "source": []
  }
 ],
 "metadata": {
  "kernelspec": {
   "display_name": "Python 3 (ipykernel)",
   "language": "python",
   "name": "python3"
  },
  "language_info": {
   "codemirror_mode": {
    "name": "ipython",
    "version": 3
   },
   "file_extension": ".py",
   "mimetype": "text/x-python",
   "name": "python",
   "nbconvert_exporter": "python",
   "pygments_lexer": "ipython3",
   "version": "3.12.4"
  }
 },
 "nbformat": 4,
 "nbformat_minor": 5
}
