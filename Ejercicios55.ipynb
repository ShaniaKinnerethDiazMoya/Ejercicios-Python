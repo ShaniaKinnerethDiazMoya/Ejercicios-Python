{
 "cells": [
  {
   "cell_type": "markdown",
   "id": "50d47ee8-5cae-421d-a61c-e9688312cc2b",
   "metadata": {},
   "source": [
    "# Ejercicios 55"
   ]
  },
  {
   "cell_type": "markdown",
   "id": "1b9665a7-b243-4b46-9a6e-2e0b24b1ec97",
   "metadata": {},
   "source": [
    "### Imprimir los numero pares del 2 al 10 con un un ciclo for"
   ]
  },
  {
   "cell_type": "code",
   "execution_count": 6,
   "id": "aa824ae1-8c43-411f-bceb-81dfc3a8af20",
   "metadata": {},
   "outputs": [
    {
     "name": "stdout",
     "output_type": "stream",
     "text": [
      "2\n",
      "4\n",
      "6\n",
      "8\n",
      "10\n"
     ]
    }
   ],
   "source": [
    "for i in range (2, 11, 2):\n",
    "    print(i)"
   ]
  },
  {
   "cell_type": "code",
   "execution_count": null,
   "id": "21cd0554-b68d-4edc-992e-58ce62d0590f",
   "metadata": {},
   "outputs": [],
   "source": []
  }
 ],
 "metadata": {
  "kernelspec": {
   "display_name": "Python 3 (ipykernel)",
   "language": "python",
   "name": "python3"
  },
  "language_info": {
   "codemirror_mode": {
    "name": "ipython",
    "version": 3
   },
   "file_extension": ".py",
   "mimetype": "text/x-python",
   "name": "python",
   "nbconvert_exporter": "python",
   "pygments_lexer": "ipython3",
   "version": "3.12.4"
  }
 },
 "nbformat": 4,
 "nbformat_minor": 5
}
