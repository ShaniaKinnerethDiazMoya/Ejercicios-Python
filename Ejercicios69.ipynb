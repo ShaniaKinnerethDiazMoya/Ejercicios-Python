{
 "cells": [
  {
   "cell_type": "markdown",
   "id": "282b0fe5-e06c-4a13-8b6a-b698b4b9fe6f",
   "metadata": {},
   "source": [
    "# Ejercicios 69"
   ]
  },
  {
   "cell_type": "markdown",
   "id": "d20fcdac-b026-43c1-930b-8fad826a9cec",
   "metadata": {},
   "source": [
    "### Escribe una funcion para calcular la tasa de desempleo "
   ]
  },
  {
   "cell_type": "code",
   "execution_count": 7,
   "id": "b3776bb7-a565-457c-a01d-355b8306c8bf",
   "metadata": {},
   "outputs": [
    {
     "data": {
      "text/plain": [
       "11.11111111111111"
      ]
     },
     "execution_count": 7,
     "metadata": {},
     "output_type": "execute_result"
    }
   ],
   "source": [
    "def tasa_desempleo(no_em, si_em):\n",
    "    return (no_em / si_em) * 100\n",
    "\n",
    "resultado = tasa_desempleo(100, 900)\n",
    "resultado"
   ]
  },
  {
   "cell_type": "code",
   "execution_count": null,
   "id": "ca04c649-9cba-4bd8-a2a8-db1c4c52c8f6",
   "metadata": {},
   "outputs": [],
   "source": []
  }
 ],
 "metadata": {
  "kernelspec": {
   "display_name": "Python 3 (ipykernel)",
   "language": "python",
   "name": "python3"
  },
  "language_info": {
   "codemirror_mode": {
    "name": "ipython",
    "version": 3
   },
   "file_extension": ".py",
   "mimetype": "text/x-python",
   "name": "python",
   "nbconvert_exporter": "python",
   "pygments_lexer": "ipython3",
   "version": "3.12.4"
  }
 },
 "nbformat": 4,
 "nbformat_minor": 5
}
