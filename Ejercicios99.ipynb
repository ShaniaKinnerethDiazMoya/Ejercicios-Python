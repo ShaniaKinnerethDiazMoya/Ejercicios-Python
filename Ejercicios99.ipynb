{
 "cells": [
  {
   "cell_type": "markdown",
   "id": "5cb93401-47d8-4903-b8b9-f732efac314c",
   "metadata": {},
   "source": [
    "# Ejercicios 99"
   ]
  }
 ],
 "metadata": {
  "kernelspec": {
   "display_name": "Python 3 (ipykernel)",
   "language": "python",
   "name": "python3"
  },
  "language_info": {
   "codemirror_mode": {
    "name": "ipython",
    "version": 3
   },
   "file_extension": ".py",
   "mimetype": "text/x-python",
   "name": "python",
   "nbconvert_exporter": "python",
   "pygments_lexer": "ipython3",
   "version": "3.12.4"
  }
 },
 "nbformat": 4,
 "nbformat_minor": 5
}
