{
 "cells": [
  {
   "cell_type": "markdown",
   "id": "9550cdfd-29dc-4423-b992-0a1d69532026",
   "metadata": {},
   "source": [
    "# Ejercicios 87"
   ]
  },
  {
   "cell_type": "markdown",
   "id": "0187263a-deb4-49a2-800f-031a2145a959",
   "metadata": {},
   "source": [
    "### Sumar dos numeros utilizando lambda "
   ]
  },
  {
   "cell_type": "code",
   "execution_count": 3,
   "id": "d163f844-3fc5-463d-a8d1-9f82a1b4c747",
   "metadata": {},
   "outputs": [
    {
     "name": "stdout",
     "output_type": "stream",
     "text": [
      "7\n"
     ]
    }
   ],
   "source": [
    "suma = lambda x,y: x + y\n",
    "\n",
    "print(suma(3,4))"
   ]
  },
  {
   "cell_type": "code",
   "execution_count": null,
   "id": "303b9483-70f6-472c-91fe-dd56154fc90c",
   "metadata": {},
   "outputs": [],
   "source": []
  }
 ],
 "metadata": {
  "kernelspec": {
   "display_name": "Python 3 (ipykernel)",
   "language": "python",
   "name": "python3"
  },
  "language_info": {
   "codemirror_mode": {
    "name": "ipython",
    "version": 3
   },
   "file_extension": ".py",
   "mimetype": "text/x-python",
   "name": "python",
   "nbconvert_exporter": "python",
   "pygments_lexer": "ipython3",
   "version": "3.12.4"
  }
 },
 "nbformat": 4,
 "nbformat_minor": 5
}
